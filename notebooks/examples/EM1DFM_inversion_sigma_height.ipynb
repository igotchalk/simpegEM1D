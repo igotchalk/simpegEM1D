{
 "cells": [
  {
   "cell_type": "code",
   "execution_count": 1,
   "metadata": {},
   "outputs": [
    {
     "name": "stdout",
     "output_type": "stream",
     "text": [
      "Populating the interactive namespace from numpy and matplotlib\n"
     ]
    }
   ],
   "source": [
    "from SimPEG import *\n",
    "from discretize import TensorMesh\n",
    "from simpegEM1D.simulation import EM1DFMSimulation\n",
    "from simpegEM1D.survey import EM1DSurveyFD\n",
    "from simpegEM1D.sources import *\n",
    "from simpegEM1D.receivers import *\n",
    "from simpegEM1D import analytics, Utils1D\n",
    "from simpegEM1D.EM1DSimulation import *\n",
    "from scipy.constants import mu_0\n",
    "import numpy as np\n",
    "%pylab inline"
   ]
  },
  {
   "cell_type": "code",
   "execution_count": 2,
   "metadata": {},
   "outputs": [],
   "source": [
    "rx_location = np.array([7.86, 0., 100.+30.])\n",
    "src_location = np.array([0., 0., 100.+30.])\n",
    "rx_location2 = np.array([7.86, 0., 100.+35.])\n",
    "src_location2 = np.array([0., 0., 100.+35.])\n",
    "\n",
    "frequency = np.array([382, 1822, 7970, 35920, 130100], dtype=float)\n",
    "I = 1.\n",
    "a = 1.\n",
    "field_type = \"ppm\"\n",
    "\n",
    "# Receiver list\n",
    "receiver_list = [\n",
    "    HarmonicPointReceiver(\n",
    "        rx_location, frequency, orientation=\"z\", field_type=field_type, component=\"real\"\n",
    "    )\n",
    "]\n",
    "receiver_list.append(\n",
    "    HarmonicPointReceiver(\n",
    "        rx_location, frequency, orientation=\"z\", field_type=field_type, component=\"imag\"\n",
    "    )\n",
    ")\n",
    "\n",
    "\n",
    "receiver_list2 = [\n",
    "    HarmonicPointReceiver(\n",
    "        rx_location2, frequency, orientation=\"z\", field_type=field_type, component=\"real\"\n",
    "    )\n",
    "]\n",
    "receiver_list2.append(\n",
    "    HarmonicPointReceiver(\n",
    "        rx_location2, frequency, orientation=\"z\", field_type=field_type, component=\"imag\"\n",
    "    )\n",
    ")\n",
    "\n",
    "\n",
    "# Sources\n",
    "source_list = [\n",
    "    HarmonicMagneticDipoleSource(\n",
    "        receiver_list=receiver_list, location=src_location, orientation=\"z\", I=I\n",
    "    )\n",
    "]\n",
    "\n",
    "source_list.append(\n",
    "    HarmonicMagneticDipoleSource(\n",
    "        receiver_list=receiver_list2, location=src_location2, orientation=\"z\", I=I\n",
    "    )\n",
    ")\n",
    "\n",
    "\n",
    "\n",
    "# source_list = [\n",
    "#     HarmonicHorizontalLoopSource(\n",
    "#         receiver_list=receiver_list, location=src_location, a=a, I=I\n",
    "#     )\n",
    "# ]\n",
    "\n",
    "# Survey\n",
    "FDsurvey = EM1DSurveyFD(source_list)\n",
    "nSrc = FDsurvey.nSrc"
   ]
  },
  {
   "cell_type": "code",
   "execution_count": 3,
   "metadata": {},
   "outputs": [],
   "source": [
    "sig_half = 1e-1\n",
    "sig_blk = 1e0\n",
    "\n",
    "hz = get_vertical_discretization_frequency(frequency, sigma_background=sig_half)\n",
    "mesh1D = set_mesh_1d(hz)\n",
    "depth = -mesh1D.gridN[:-1]\n",
    "LocSigZ = -mesh1D.gridCC\n",
    "nlay = depth.size\n",
    "topo = np.r_[0., 0., 100.]\n",
    "\n",
    "chi_half = 0.\n",
    "wires = maps.Wires(('sigma', mesh1D.nC),('h', nSrc))\n",
    "expmap = maps.ExpMap(mesh1D)\n",
    "# expmap_h = Maps.ExpMap(nP=1)\n",
    "sigmaMap = expmap * wires.sigma\n",
    "# hMap = expmap_h*wires.h\n",
    "sig  = np.ones(mesh1D.nC)*sig_half\n",
    "blk_ind = (-20>LocSigZ) & (-40<LocSigZ)\n",
    "sig[blk_ind] = sig_blk\n",
    "if nSrc == 1:\n",
    "    h_true = src_location[2] - topo[2]\n",
    "    m_true = np.r_[np.log(sig), h_true]\n",
    "    m_true_dh = np.r_[np.log(sig), h_true + 5.]\n",
    "else:\n",
    "    h_true = np.r_[src_location[2], src_location2[2]] - topo[2]\n",
    "    m_true = np.r_[np.log(sig), h_true]\n",
    "    m_true_dh = np.r_[np.log(sig), h_true + 5.]\n",
    "        \n"
   ]
  },
  {
   "cell_type": "code",
   "execution_count": 4,
   "metadata": {},
   "outputs": [
    {
     "data": {
      "text/plain": [
       "[<matplotlib.lines.Line2D at 0x2871db2a3c8>]"
      ]
     },
     "execution_count": 4,
     "metadata": {},
     "output_type": "execute_result"
    },
    {
     "data": {
      "image/png": "[encoded data removed]",
      "text/plain": [
       "<Figure size 360x576 with 1 Axes>"
      ]
     },
     "metadata": {
      "needs_background": "light"
     },
     "output_type": "display_data"
    }
   ],
   "source": [
    "fig, ax = subplots(1,1, figsize=(5, 8))\n",
    "Utils1D.plotLayer(sig, mesh1D, showlayers=False)"
   ]
  },
  {
   "cell_type": "code",
   "execution_count": 5,
   "metadata": {
    "scrolled": false
   },
   "outputs": [],
   "source": [
    "sim = EM1DFMSimulation(\n",
    "    mesh1D, survey=FDsurvey, sigmaMap=sigmaMap, hMap=wires.h, depth=depth,\n",
    "    chi= np.zeros(nlay)\n",
    ")\n",
    "  \n",
    "d_true = sim.dpred(m_true)\n",
    "# d_p = FDsurvey.dpred(m_dx_p)\n",
    "# d_n = FDsurvey.dpred(m_dx_n)\n",
    "d_dh = sim.dpred(m_true_dh)\n",
    "# J_h_diff = (d_p-d_n) / (dh)\n",
    "# plt.plot(J_h_diff, 'k')\n",
    "# plt.plot(prob.getJ_height(m_true), 'bx')"
   ]
  },
  {
   "cell_type": "code",
   "execution_count": 6,
   "metadata": {},
   "outputs": [
    {
     "data": {
      "image/png": "[encoded data removed]",
      "text/plain": [
       "<Figure size 504x360 with 1 Axes>"
      ]
     },
     "metadata": {
      "needs_background": "light"
     },
     "output_type": "display_data"
    }
   ],
   "source": [
    "fig, axes = plt.subplots(1,1, figsize = (7,5))\n",
    "if nSrc == 1:\n",
    "    axes.plot(frequency, d_true[0:len(frequency)], 'k.-')\n",
    "    axes.plot(frequency, d_true[len(frequency):], 'b.-')\n",
    "    axes.plot(frequency, d_dh[0:len(frequency)], 'kx')\n",
    "    axes.plot(frequency, d_dh[len(frequency):], 'bx')\n",
    "else:\n",
    "    axes.plot(frequency, d_true[0:len(frequency)], 'k.-')\n",
    "    axes.plot(frequency, d_true[len(frequency):2*len(frequency)], 'b.-')\n",
    "    axes.plot(frequency, d_dh[0:len(frequency)], 'kx')\n",
    "    axes.plot(frequency, d_dh[len(frequency):2*len(frequency)], 'bx')\n",
    "        \n",
    "axes.set_xscale('log')"
   ]
  },
  {
   "cell_type": "code",
   "execution_count": 7,
   "metadata": {},
   "outputs": [],
   "source": [
    "from SimPEG import regularization, data"
   ]
  },
  {
   "cell_type": "code",
   "execution_count": 8,
   "metadata": {},
   "outputs": [],
   "source": [
    "std = 0.07\n",
    "floor = 0.\n",
    "np.random.seed(1)\n",
    "uncert = std*abs(d_true)+floor\n",
    "noise = std*np.abs(d_true)*np.random.randn(len(d_true))\n",
    "d_obs = d_true + noise\n",
    "dataObj = data.Data(FDsurvey, dobs=d_obs, noise_floor=uncert)\n",
    "\n",
    "dmisfit = data_misfit.L2DataMisfit(dataObj, sim)\n",
    "dmisfit.W = utils.sdiag(1/uncert)\n"
   ]
  },
  {
   "cell_type": "code",
   "execution_count": 9,
   "metadata": {
    "scrolled": false
   },
   "outputs": [],
   "source": [
    "m0 = np.r_[np.log(np.ones_like(sig)*sig_half), 45.*np.ones(nSrc)]\n",
    "\n",
    "reg_sigma = regularization.Sparse(\n",
    "    mesh1D, mapping=wires.sigma, cell_weights=mesh1D.vol,\n",
    "    alpha_s = 0.01\n",
    ")\n",
    "p=0.\n",
    "qx, qz = 1., 1.\n",
    "reg_sigma.norms = np.c_[p, qx, qz, 0.]\n",
    "IRLS = directives.Update_IRLS(\n",
    "    max_irls_iterations=20, minGNiter=1, fix_Jmatrix=True, coolingRate=2, \n",
    "    beta_tol=1e-2,\n",
    "    chifact_start = 1.\n",
    ")\n",
    "\n",
    "mesh_h = TensorMesh([np.ones(nSrc)])\n",
    "reg_h = regularization.Sparse(\n",
    "    mesh_h, mapping=wires.h, \n",
    "    alpha_s = 1.\n",
    ")\n",
    "reg = reg_sigma + reg_h\n",
    "opt = optimization.ProjectedGNCG(maxIter = 40)\n",
    "opt.maxIterLS = 5\n",
    "invProb = inverse_problem.BaseInvProblem(dmisfit, reg, opt)\n",
    "beta = directives.BetaSchedule(coolingFactor=2, coolingRate=2)\n",
    "betaest = directives.BetaEstimate_ByEig(beta0_ratio=1.)\n",
    "target = directives.TargetMisfit()\n",
    "update_sense = directives.UpdateSensitivityWeights()\n",
    "inv = inversion.BaseInversion(invProb, directiveList=[beta,betaest,target])\n",
    "# inv = Inversion.BaseInversion(invProb, directiveList=[IRLS, betaest])\n",
    "# inv = Inversion.BaseInversion(invProb, directiveList=[IRLS])\n",
    "\n",
    "# prob.counter = opt.counter = utils.Counter()\n",
    "opt.LSshorten = 0.5\n",
    "opt.remember('xc')\n"
   ]
  },
  {
   "cell_type": "code",
   "execution_count": 10,
   "metadata": {},
   "outputs": [
    {
     "name": "stdout",
     "output_type": "stream",
     "text": [
      "(20, 19)\n",
      "(20, 2)\n",
      "[[ -2.25362006   0.        ]\n",
      " [-11.84061328   0.        ]\n",
      " [-32.71653202   0.        ]\n",
      " [-56.01219653   0.        ]\n",
      " [-69.32358724   0.        ]\n",
      " [ -6.11090659   0.        ]\n",
      " [-15.4954772    0.        ]\n",
      " [-22.20891835   0.        ]\n",
      " [-19.06424455   0.        ]\n",
      " [-12.79387869   0.        ]\n",
      " [  0.          -2.25362006]\n",
      " [  0.         -11.84061328]\n",
      " [  0.         -32.71653202]\n",
      " [  0.         -56.01219653]\n",
      " [  0.         -69.32358724]\n",
      " [  0.          -6.11090659]\n",
      " [  0.         -15.4954772 ]\n",
      " [  0.         -22.20891835]\n",
      " [  0.         -19.06424455]\n",
      " [  0.         -12.79387869]]\n"
     ]
    }
   ],
   "source": [
    "print(np.shape(sim.getJ_sigma(m0)))\n",
    "print(np.shape(sim.getJ_height(m0)))\n",
    "print(sim.getJ_height(m0))"
   ]
  },
  {
   "cell_type": "code",
   "execution_count": 11,
   "metadata": {},
   "outputs": [
    {
     "name": "stdout",
     "output_type": "stream",
     "text": [
      "SimPEG.InvProblem will set Regularization.mref to m0.\n",
      "SimPEG.InvProblem will set Regularization.mref to m0.\n",
      "\n",
      "        SimPEG.InvProblem is setting bfgsH0 to the inverse of the eval2Deriv.\n",
      "        ***Done using same Solver and solverOpts as the problem***\n",
      "model has any nan: 0\n",
      "=============================== Projected GNCG ===============================\n",
      "  #     beta     phi_d     phi_m       f      |proj(x-g)-x|  LS    Comment   \n",
      "-----------------------------------------------------------------------------\n",
      "x0 has any nan: 0\n",
      "   0  9.20e+00  7.12e+02  0.00e+00  7.12e+02    6.72e+01      0              \n",
      "   1  9.20e+00  5.24e+02  2.34e+00  5.45e+02    2.99e+01      1              \n",
      "   2  4.60e+00  4.40e+02  6.53e+00  4.70e+02    2.87e+01      0   Skip BFGS  \n",
      "   3  4.60e+00  3.31e+02  2.21e+01  4.32e+02    6.09e+01      0              \n",
      "   4  2.30e+00  2.80e+02  2.76e+01  3.43e+02    2.02e+01      0              \n",
      "   5  2.30e+00  1.44e+02  6.40e+01  2.91e+02    1.28e+01      0              \n",
      "   6  1.15e+00  1.09e+02  7.56e+01  1.95e+02    1.71e+01      0              \n",
      "   7  1.15e+00  3.80e+01  1.13e+02  1.68e+02    1.70e+01      0              \n",
      "   8  5.75e-01  3.19e+01  1.17e+02  9.92e+01    1.17e+01      0   Skip BFGS  \n",
      "   9  5.75e-01  1.28e+01  1.37e+02  9.15e+01    4.06e+00      0              \n",
      "  10  2.87e-01  1.13e+01  1.39e+02  5.12e+01    8.48e+00      0              \n",
      "------------------------- STOP! -------------------------\n",
      "1 : |fc-fOld| = 0.0000e+00 <= tolF*(1+|f0|) = 7.1286e+01\n",
      "1 : |xc-x_last| = 1.0820e+00 <= tolX*(1+|x0|) = 6.5426e+00\n",
      "0 : |proj(x-g)-x|    = 8.4757e+00 <= tolG          = 1.0000e-01\n",
      "0 : |proj(x-g)-x|    = 8.4757e+00 <= 1e3*eps       = 1.0000e-02\n",
      "0 : maxIter   =      40    <= iter          =     11\n",
      "------------------------- DONE! -------------------------\n"
     ]
    }
   ],
   "source": [
    "mopt = inv.run(m0)"
   ]
  },
  {
   "cell_type": "code",
   "execution_count": 12,
   "metadata": {},
   "outputs": [
    {
     "name": "stdout",
     "output_type": "stream",
     "text": [
      "[45. 45.]\n",
      "[31.44395427 36.17933422]\n",
      "[31.44395427 36.17933422]\n"
     ]
    }
   ],
   "source": [
    "print (wires.h*m0)\n",
    "print (wires.h*mopt)\n",
    "print (sim.h)"
   ]
  },
  {
   "cell_type": "code",
   "execution_count": 13,
   "metadata": {},
   "outputs": [
    {
     "name": "stdout",
     "output_type": "stream",
     "text": [
      "Populating the interactive namespace from numpy and matplotlib\n"
     ]
    },
    {
     "name": "stderr",
     "output_type": "stream",
     "text": [
      "C:\\ProgramData\\Anaconda3\\lib\\site-packages\\IPython\\core\\magics\\pylab.py:160: UserWarning: pylab import has clobbered these variables: ['axes', 'beta', 'std', 'floor', 'inv']\n",
      "`%matplotlib` prevents importing * from pylab and numpy\n",
      "  \"\\n`%matplotlib` prevents importing * from pylab and numpy\"\n"
     ]
    },
    {
     "data": {
      "text/plain": [
       "[<matplotlib.lines.Line2D at 0x2871f203e88>]"
      ]
     },
     "execution_count": 13,
     "metadata": {},
     "output_type": "execute_result"
    },
    {
     "data": {
      "image/png": "[encoded data removed]",
      "text/plain": [
       "<Figure size 360x576 with 1 Axes>"
      ]
     },
     "metadata": {
      "needs_background": "light"
     },
     "output_type": "display_data"
    }
   ],
   "source": [
    "%pylab inline\n",
    "fig, ax = subplots(1,1, figsize=(5, 8))\n",
    "Utils1D.plotLayer(sig, mesh1D, showlayers=False)\n",
    "Utils1D.plotLayer(sigmaMap*mopt, mesh1D, showlayers=True, **{'color':'r'})\n",
    "# Utils1D.plotLayer(sigmaMap*invProb.l2model, LocSigZ, showlayers=True,**{'color':'g'})"
   ]
  },
  {
   "cell_type": "code",
   "execution_count": 14,
   "metadata": {},
   "outputs": [
    {
     "data": {
      "text/plain": [
       "<bound method Axes.set_xlabel of <matplotlib.axes._subplots.AxesSubplot object at 0x000002871F772A48>>"
      ]
     },
     "execution_count": 14,
     "metadata": {},
     "output_type": "execute_result"
    },
    {
     "data": {
      "image/png": "[encoded data removed]",
      "text/plain": [
       "<Figure size 504x360 with 1 Axes>"
      ]
     },
     "metadata": {
      "needs_background": "light"
     },
     "output_type": "display_data"
    }
   ],
   "source": [
    "fig, axes = subplots(1,1, figsize = (7,5))\n",
    "if nSrc == 1:\n",
    "    axes.plot(frequency, d_true[0:len(frequency)], 'k.-')\n",
    "    axes.plot(frequency, d_true[len(frequency):], 'b.-')\n",
    "    axes.plot(frequency, d_obs[0:len(frequency)], 'kx')\n",
    "    axes.plot(frequency, d_obs[len(frequency):], 'bx')\n",
    "else:\n",
    "    axes.plot(frequency, d_true[0:len(frequency)], 'k.-')\n",
    "    axes.plot(frequency, d_true[len(frequency):2*len(frequency)], 'b.-')\n",
    "    axes.plot(frequency, d_obs[0:len(frequency)], 'kx')\n",
    "    axes.plot(frequency, d_obs[len(frequency):2*len(frequency)], 'bx')\n",
    "axes.set_xscale('log')\n",
    "axes.set_xlabel"
   ]
  },
  {
   "cell_type": "code",
   "execution_count": null,
   "metadata": {},
   "outputs": [],
   "source": []
  }
 ],
 "metadata": {
  "kernelspec": {
   "display_name": "Python 3",
   "language": "python",
   "name": "python3"
  },
  "language_info": {
   "codemirror_mode": {
    "name": "ipython",
    "version": 3
   },
   "file_extension": ".py",
   "mimetype": "text/x-python",
   "name": "python",
   "nbconvert_exporter": "python",
   "pygments_lexer": "ipython3",
   "version": "3.7.4"
  }
 },
 "nbformat": 4,
 "nbformat_minor": 1
}
