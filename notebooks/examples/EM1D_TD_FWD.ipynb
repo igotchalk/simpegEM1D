{
 "cells": [
  {
   "cell_type": "code",
   "execution_count": 2,
   "metadata": {
    "scrolled": true
   },
   "outputs": [
    {
     "name": "stdout",
     "output_type": "stream",
     "text": [
      "Populating the interactive namespace from numpy and matplotlib\n"
     ]
    }
   ],
   "source": [
    "from SimPEG import *\n",
    "from simpegEM1D import (\n",
    "    Utils1D, get_vertical_discretization_time, \n",
    "    set_mesh_1d, skytem_HM_2015\n",
    ")\n",
    "from simpegEM1D.simulation_original import EM1DTMSimulation\n",
    "from simpegEM1D.survey_original import EM1DSurveyTD\n",
    "from simpegEM1D import analytics\n",
    "import numpy as np\n",
    "from simpegEM1D import skytem_HM_2015\n",
    "from simpegEM1D.supporting_functions.digital_filter import setFrequency, transFilt\n",
    "from scipy.constants import mu_0\n",
    "%pylab inline"
   ]
  },
  {
   "cell_type": "code",
   "execution_count": 3,
   "metadata": {},
   "outputs": [
    {
     "ename": "AttributeError",
     "evalue": "'EM1DTMSimulation' object has no attribute 'n_layer'",
     "output_type": "error",
     "traceback": [
      "\u001b[1;31m---------------------------------------------------------------------------\u001b[0m",
      "\u001b[1;31mAttributeError\u001b[0m                            Traceback (most recent call last)",
      "\u001b[1;32m<ipython-input-3-eeb4d9c68f2d>\u001b[0m in \u001b[0;36m<module>\u001b[1;34m\u001b[0m\n\u001b[0;32m     25\u001b[0m \u001b[0mimap\u001b[0m \u001b[1;33m=\u001b[0m \u001b[0mmaps\u001b[0m\u001b[1;33m.\u001b[0m\u001b[0mIdentityMap\u001b[0m\u001b[1;33m(\u001b[0m\u001b[0mmesh1D\u001b[0m\u001b[1;33m)\u001b[0m\u001b[1;33m\u001b[0m\u001b[1;33m\u001b[0m\u001b[0m\n\u001b[0;32m     26\u001b[0m \u001b[0msim\u001b[0m \u001b[1;33m=\u001b[0m \u001b[0mEM1DTMSimulation\u001b[0m\u001b[1;33m(\u001b[0m\u001b[0mmesh1D\u001b[0m\u001b[1;33m,\u001b[0m \u001b[0msurvey\u001b[0m\u001b[1;33m=\u001b[0m\u001b[0mTDsurvey\u001b[0m\u001b[1;33m,\u001b[0m \u001b[0msigmaMap\u001b[0m\u001b[1;33m=\u001b[0m\u001b[0mimap\u001b[0m\u001b[1;33m,\u001b[0m \u001b[0mverbose\u001b[0m\u001b[1;33m=\u001b[0m\u001b[1;32mFalse\u001b[0m\u001b[1;33m)\u001b[0m\u001b[1;33m\u001b[0m\u001b[1;33m\u001b[0m\u001b[0m\n\u001b[1;32m---> 27\u001b[1;33m \u001b[0mbz\u001b[0m \u001b[1;33m=\u001b[0m \u001b[0msim\u001b[0m\u001b[1;33m.\u001b[0m\u001b[0mdpred\u001b[0m\u001b[1;33m(\u001b[0m\u001b[0msigma\u001b[0m\u001b[1;33m)\u001b[0m\u001b[1;33m\u001b[0m\u001b[1;33m\u001b[0m\u001b[0m\n\u001b[0m\u001b[0;32m     28\u001b[0m \u001b[0mprint\u001b[0m\u001b[1;33m(\u001b[0m\u001b[0mnp\u001b[0m\u001b[1;33m.\u001b[0m\u001b[0mshape\u001b[0m\u001b[1;33m(\u001b[0m\u001b[0mbz\u001b[0m\u001b[1;33m)\u001b[0m\u001b[1;33m)\u001b[0m\u001b[1;33m\u001b[0m\u001b[1;33m\u001b[0m\u001b[0m\n\u001b[0;32m     29\u001b[0m \u001b[0mprint\u001b[0m\u001b[1;33m(\u001b[0m\u001b[0mbz\u001b[0m\u001b[1;33m)\u001b[0m\u001b[1;33m\u001b[0m\u001b[1;33m\u001b[0m\u001b[0m\n",
      "\u001b[1;32mD:\\Documents\\Repositories\\simpegEM1D\\simpegEM1D\\simulation_original.py\u001b[0m in \u001b[0;36mdpred\u001b[1;34m(self, m, f)\u001b[0m\n\u001b[0;32m    429\u001b[0m \u001b[1;33m\u001b[0m\u001b[0m\n\u001b[0;32m    430\u001b[0m         \u001b[1;32mif\u001b[0m \u001b[0mf\u001b[0m \u001b[1;32mis\u001b[0m \u001b[1;32mNone\u001b[0m\u001b[1;33m:\u001b[0m\u001b[1;33m\u001b[0m\u001b[1;33m\u001b[0m\u001b[0m\n\u001b[1;32m--> 431\u001b[1;33m             \u001b[0mf\u001b[0m \u001b[1;33m=\u001b[0m \u001b[0mself\u001b[0m\u001b[1;33m.\u001b[0m\u001b[0mfields\u001b[0m\u001b[1;33m(\u001b[0m\u001b[0mm\u001b[0m\u001b[1;33m)\u001b[0m\u001b[1;33m\u001b[0m\u001b[1;33m\u001b[0m\u001b[0m\n\u001b[0m\u001b[0;32m    432\u001b[0m         \u001b[1;32mreturn\u001b[0m \u001b[0mutils\u001b[0m\u001b[1;33m.\u001b[0m\u001b[0mmkvc\u001b[0m\u001b[1;33m(\u001b[0m\u001b[0mself\u001b[0m\u001b[1;33m.\u001b[0m\u001b[0mprojectFields\u001b[0m\u001b[1;33m(\u001b[0m\u001b[0mf\u001b[0m\u001b[1;33m)\u001b[0m\u001b[1;33m)\u001b[0m\u001b[1;33m\u001b[0m\u001b[1;33m\u001b[0m\u001b[0m\n\u001b[0;32m    433\u001b[0m \u001b[1;33m\u001b[0m\u001b[0m\n",
      "\u001b[1;32mD:\\Documents\\Repositories\\simpegEM1D\\simpegEM1D\\simulation_original.py\u001b[0m in \u001b[0;36mfields\u001b[1;34m(self, m)\u001b[0m\n\u001b[0;32m    313\u001b[0m     \u001b[1;31m# @profile\u001b[0m\u001b[1;33m\u001b[0m\u001b[1;33m\u001b[0m\u001b[1;33m\u001b[0m\u001b[0m\n\u001b[0;32m    314\u001b[0m     \u001b[1;32mdef\u001b[0m \u001b[0mfields\u001b[0m\u001b[1;33m(\u001b[0m\u001b[0mself\u001b[0m\u001b[1;33m,\u001b[0m \u001b[0mm\u001b[0m\u001b[1;33m)\u001b[0m\u001b[1;33m:\u001b[0m\u001b[1;33m\u001b[0m\u001b[1;33m\u001b[0m\u001b[0m\n\u001b[1;32m--> 315\u001b[1;33m         \u001b[0mf\u001b[0m \u001b[1;33m=\u001b[0m \u001b[0mself\u001b[0m\u001b[1;33m.\u001b[0m\u001b[0mforward\u001b[0m\u001b[1;33m(\u001b[0m\u001b[0mm\u001b[0m\u001b[1;33m,\u001b[0m \u001b[0moutput_type\u001b[0m\u001b[1;33m=\u001b[0m\u001b[1;34m'response'\u001b[0m\u001b[1;33m)\u001b[0m\u001b[1;33m\u001b[0m\u001b[1;33m\u001b[0m\u001b[0m\n\u001b[0m\u001b[0;32m    316\u001b[0m         \u001b[1;31m# self.survey._pred = utils.mkvc(self.survey.projectFields(f))\u001b[0m\u001b[1;33m\u001b[0m\u001b[1;33m\u001b[0m\u001b[1;33m\u001b[0m\u001b[0m\n\u001b[0;32m    317\u001b[0m         \u001b[1;32mreturn\u001b[0m \u001b[0mf\u001b[0m\u001b[1;33m\u001b[0m\u001b[1;33m\u001b[0m\u001b[0m\n",
      "\u001b[1;32mD:\\Documents\\Repositories\\simpegEM1D\\simpegEM1D\\simulation_original.py\u001b[0m in \u001b[0;36mforward\u001b[1;34m(self, m, output_type)\u001b[0m\n\u001b[0;32m    211\u001b[0m                     \u001b[0mself\u001b[0m\u001b[1;33m,\u001b[0m \u001b[0mlambd\u001b[0m\u001b[1;33m,\u001b[0m \u001b[0mf\u001b[0m\u001b[1;33m,\u001b[0m \u001b[0mn_layer\u001b[0m\u001b[1;33m,\u001b[0m\u001b[1;33m\u001b[0m\u001b[1;33m\u001b[0m\u001b[0m\n\u001b[0;32m    212\u001b[0m                     \u001b[0msig\u001b[0m\u001b[1;33m,\u001b[0m \u001b[0mchi\u001b[0m\u001b[1;33m,\u001b[0m \u001b[0mdepth\u001b[0m\u001b[1;33m,\u001b[0m \u001b[0mh\u001b[0m\u001b[1;33m,\u001b[0m \u001b[0mz\u001b[0m\u001b[1;33m,\u001b[0m\u001b[1;33m\u001b[0m\u001b[1;33m\u001b[0m\u001b[0m\n\u001b[1;32m--> 213\u001b[1;33m                     \u001b[0mflag\u001b[0m\u001b[1;33m,\u001b[0m \u001b[0mI\u001b[0m\u001b[1;33m,\u001b[0m \u001b[0moutput_type\u001b[0m\u001b[1;33m=\u001b[0m\u001b[0moutput_type\u001b[0m\u001b[1;33m\u001b[0m\u001b[1;33m\u001b[0m\u001b[0m\n\u001b[0m\u001b[0;32m    214\u001b[0m                 )\n\u001b[0;32m    215\u001b[0m \u001b[1;33m\u001b[0m\u001b[0m\n",
      "\u001b[1;32mD:\\Documents\\Repositories\\simpegEM1D\\simpegEM1D\\supporting_functions\\kernels.py\u001b[0m in \u001b[0;36mhz_kernel_vertical_magnetic_dipole\u001b[1;34m(simulation, lamda, f, n_layer, sig, chi, depth, h, z, flag, I, output_type)\u001b[0m\n\u001b[0;32m    535\u001b[0m \u001b[1;33m\u001b[0m\u001b[0m\n\u001b[0;32m    536\u001b[0m     \u001b[0mn_frequency\u001b[0m \u001b[1;33m=\u001b[0m \u001b[0mlen\u001b[0m\u001b[1;33m(\u001b[0m\u001b[0mf\u001b[0m\u001b[1;33m)\u001b[0m\u001b[1;33m\u001b[0m\u001b[1;33m\u001b[0m\u001b[0m\n\u001b[1;32m--> 537\u001b[1;33m     \u001b[0mn_layer\u001b[0m \u001b[1;33m=\u001b[0m \u001b[0msimulation\u001b[0m\u001b[1;33m.\u001b[0m\u001b[0mn_layer\u001b[0m\u001b[1;33m\u001b[0m\u001b[1;33m\u001b[0m\u001b[0m\n\u001b[0m\u001b[0;32m    538\u001b[0m     \u001b[0mn_filter\u001b[0m \u001b[1;33m=\u001b[0m \u001b[0msimulation\u001b[0m\u001b[1;33m.\u001b[0m\u001b[0mn_filter\u001b[0m\u001b[1;33m\u001b[0m\u001b[1;33m\u001b[0m\u001b[0m\n\u001b[0;32m    539\u001b[0m \u001b[1;33m\u001b[0m\u001b[0m\n",
      "\u001b[1;31mAttributeError\u001b[0m: 'EM1DTMSimulation' object has no attribute 'n_layer'"
     ]
    }
   ],
   "source": [
    "time = np.logspace(-5, -2, 31)\n",
    "# three layers\n",
    "hz = np.array([10, 10, 10])\n",
    "sigma_half = 0.1\n",
    "\n",
    "# half-space conductivity\n",
    "sigma = np.ones(hz.size) * sigma_half\n",
    "mesh1D = set_mesh_1d(hz)\n",
    "depth = -mesh1D.gridN[:-1]\n",
    "# offset b/w VMD source and Bz receiver\n",
    "offset = np.array([10.])\n",
    "\n",
    "LocSigZ = -mesh1D.gridCC\n",
    "TDsurvey = EM1DSurveyTD(\n",
    "    rx_location = np.array([0., 0., 100.]),\n",
    "    src_location = np.array([0., 0., 100.]),\n",
    "    topo = np.r_[0., 0., 100.],\n",
    "    depth = depth,\n",
    "    rx_type = 'Bz',\n",
    "    wave_type = 'stepoff',\n",
    "    src_type = 'VMD',\n",
    "    offset=offset,\n",
    "    time = time,\n",
    ")\n",
    "imap = maps.IdentityMap(mesh1D)\n",
    "sim = EM1DTMSimulation(mesh1D, survey=TDsurvey, sigmaMap=imap, verbose=False)\n",
    "bz = sim.dpred(sigma)\n",
    "print(np.shape(bz))\n",
    "print(bz)"
   ]
  },
  {
   "cell_type": "code",
   "execution_count": 4,
   "metadata": {},
   "outputs": [],
   "source": [
    "def bz_analytic_solution(r, t, sigma):\n",
    "    \"\"\"\n",
    "    r: offset bewteen VMD soure and Bz receiver (m)\n",
    "    t: measured times\n",
    "    sigma: conductivity of the half-space earth\n",
    "    \"\"\"\n",
    "    wt, tbase, omega_int = setFrequency(t)\n",
    "    hz = analytics.Hzanal(sigma, omega_int/2/np.pi, r, 'secondary')\n",
    "    # Treatment for inaccuracy in analytic solutions\n",
    "    ind = omega_int < 0.2\n",
    "    hz[ind] = 0.\n",
    "    hzTD, f0 = transFilt(hz, wt, tbase, omega_int, t)\n",
    "    return hzTD*mu_0"
   ]
  },
  {
   "cell_type": "code",
   "execution_count": null,
   "metadata": {},
   "outputs": [],
   "source": [
    "bz_analytic = bz_analytic_solution(offset, time, sigma_half)\n",
    "print(np.shape(bz_analytic))\n",
    "print(bz_analytic)"
   ]
  },
  {
   "cell_type": "code",
   "execution_count": null,
   "metadata": {},
   "outputs": [],
   "source": [
    "fig, axes = subplots(1,1, figsize = (7,5))\n",
    "axes.loglog(TDsurvey.time, bz_analytic, '-')\n",
    "axes.loglog(TDsurvey.time, bz, 'o')\n",
    "axes.set_xscale('log')\n",
    "axes.set_yscale('log')\n",
    "axes.set_xlabel('Time (s)')\n",
    "axes.set_ylabel('Bz (T)')\n",
    "axes.legend((\"Analytic\", \"simpegEM1D\"))"
   ]
  },
  {
   "cell_type": "code",
   "execution_count": null,
   "metadata": {},
   "outputs": [],
   "source": []
  },
  {
   "cell_type": "code",
   "execution_count": null,
   "metadata": {},
   "outputs": [],
   "source": []
  }
 ],
 "metadata": {
  "kernelspec": {
   "display_name": "Python 3",
   "language": "python",
   "name": "python3"
  },
  "language_info": {
   "codemirror_mode": {
    "name": "ipython",
    "version": 3
   },
   "file_extension": ".py",
   "mimetype": "text/x-python",
   "name": "python",
   "nbconvert_exporter": "python",
   "pygments_lexer": "ipython3",
   "version": "3.7.4"
  }
 },
 "nbformat": 4,
 "nbformat_minor": 1
}
