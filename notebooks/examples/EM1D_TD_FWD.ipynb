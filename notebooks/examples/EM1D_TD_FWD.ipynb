{
 "cells": [
  {
   "cell_type": "code",
   "execution_count": 1,
   "metadata": {
    "scrolled": true
   },
   "outputs": [
    {
     "name": "stdout",
     "output_type": "stream",
     "text": [
      "Populating the interactive namespace from numpy and matplotlib\n"
     ]
    }
   ],
   "source": [
    "from SimPEG import *\n",
    "from simpegEM1D import (\n",
    "    Utils1D, get_vertical_discretization_time, \n",
    "    set_mesh_1d, skytem_HM_2015\n",
    ")\n",
    "from simpegEM1D.simulation import EM1DTMSimulation\n",
    "from simpegEM1D.survey import EM1DSurveyTD\n",
    "from simpegEM1D import EM1DAnalytics\n",
    "import numpy as np\n",
    "from simpegEM1D import skytem_HM_2015\n",
    "from simpegEM1D.DigFilter import setFrequency, transFilt\n",
    "from scipy.constants import mu_0\n",
    "%pylab inline"
   ]
  },
  {
   "cell_type": "code",
   "execution_count": 2,
   "metadata": {},
   "outputs": [
    {
     "name": "stdout",
     "output_type": "stream",
     "text": [
      "(31,)\n",
      "[8.08568701e-12 6.05308651e-12 4.47918289e-12 3.28434137e-12\n",
      " 2.39082145e-12 1.73041915e-12 1.24673427e-12 8.95008883e-13\n",
      " 6.40665731e-13 4.57562169e-13 3.26195179e-13 2.32213450e-13\n",
      " 1.65119120e-13 1.17304714e-13 8.32766395e-14 5.90851502e-14\n",
      " 4.19025878e-14 2.97060668e-14 2.10535441e-14 1.49178592e-14\n",
      " 1.05684045e-14 7.48600648e-15 5.30202123e-15 3.75485979e-15\n",
      " 2.65897727e-15 1.88283018e-15 1.33317778e-15 9.43952283e-16\n",
      " 6.68343667e-16 4.73196098e-16 3.35023064e-16]\n"
     ]
    }
   ],
   "source": [
    "time = np.logspace(-5, -2, 31)\n",
    "# three layers\n",
    "hz = np.array([10, 10, 10])\n",
    "sigma_half = 0.1\n",
    "\n",
    "# half-space conductivity\n",
    "sigma = np.ones(hz.size) * sigma_half\n",
    "mesh1D = set_mesh_1d(hz)\n",
    "depth = -mesh1D.gridN[:-1]\n",
    "# offset b/w VMD source and Bz receiver\n",
    "offset = np.array([10.])\n",
    "\n",
    "LocSigZ = -mesh1D.gridCC\n",
    "TDsurvey = EM1DSurveyTD(\n",
    "    rx_location = np.array([0., 0., 100.]),\n",
    "    src_location = np.array([0., 0., 100.]),\n",
    "    topo = np.r_[0., 0., 100.],\n",
    "    depth = depth,\n",
    "    rx_type = 'Bz',\n",
    "    wave_type = 'stepoff',\n",
    "    src_type = 'VMD',\n",
    "    offset=offset,\n",
    "    time = time,\n",
    ")\n",
    "imap = maps.IdentityMap(mesh1D)\n",
    "sim = EM1DTMSimulation(mesh1D, survey=TDsurvey, sigmaMap=imap, verbose=False)\n",
    "bz = sim.dpred(sigma)\n",
    "print(np.shape(bz))\n",
    "print(bz)"
   ]
  },
  {
   "cell_type": "code",
   "execution_count": 3,
   "metadata": {},
   "outputs": [],
   "source": [
    "def bz_analytic_solution(r, t, sigma):\n",
    "    \"\"\"\n",
    "    r: offset bewteen VMD soure and Bz receiver (m)\n",
    "    t: measured times\n",
    "    sigma: conductivity of the half-space earth\n",
    "    \"\"\"\n",
    "    wt, tbase, omega_int = setFrequency(t)\n",
    "    hz = EM1DAnalytics.Hzanal(sigma, omega_int/2/np.pi, r, 'secondary')\n",
    "    # Treatment for inaccuracy in analytic solutions\n",
    "    ind = omega_int < 0.2\n",
    "    hz[ind] = 0.\n",
    "    hzTD, f0 = transFilt(hz, wt, tbase, omega_int, t)\n",
    "    return hzTD*mu_0"
   ]
  },
  {
   "cell_type": "code",
   "execution_count": 4,
   "metadata": {},
   "outputs": [
    {
     "name": "stdout",
     "output_type": "stream",
     "text": [
      "(31,)\n",
      "[8.09316857e-12 6.06698620e-12 4.49551685e-12 3.29172016e-12\n",
      " 2.39503887e-12 1.73740816e-12 1.25093533e-12 8.95539752e-13\n",
      " 6.43131939e-13 4.59430578e-13 3.26462306e-13 2.32942155e-13\n",
      " 1.65831926e-13 1.17543076e-13 8.34320390e-14 5.93153625e-14\n",
      " 4.20071771e-14 2.96975019e-14 2.11024543e-14 1.49397731e-14\n",
      " 1.05327498e-14 7.47226130e-15 5.28550866e-15 3.72160909e-15\n",
      " 2.62520779e-15 1.85067287e-15 1.29653552e-15 9.04398964e-16\n",
      " 6.30339448e-16 4.34161312e-16 2.94066345e-16]\n"
     ]
    }
   ],
   "source": [
    "bz_analytic = bz_analytic_solution(offset, time, sigma_half)\n",
    "print(np.shape(bz_analytic))\n",
    "print(bz_analytic)"
   ]
  },
  {
   "cell_type": "code",
   "execution_count": 6,
   "metadata": {},
   "outputs": [
    {
     "data": {
      "text/plain": [
       "<matplotlib.legend.Legend at 0x234dc184b48>"
      ]
     },
     "execution_count": 6,
     "metadata": {},
     "output_type": "execute_result"
    },
    {
     "data": {
      "image/png": "[encoded data removed]",
      "text/plain": [
       "<Figure size 504x360 with 1 Axes>"
      ]
     },
     "metadata": {
      "needs_background": "light"
     },
     "output_type": "display_data"
    }
   ],
   "source": [
    "fig, axes = subplots(1,1, figsize = (7,5))\n",
    "axes.loglog(TDsurvey.time, bz_analytic, '-')\n",
    "axes.loglog(TDsurvey.time, bz, 'o')\n",
    "axes.set_xscale('log')\n",
    "axes.set_yscale('log')\n",
    "axes.set_xlabel('Time (s)')\n",
    "axes.set_ylabel('Bz (T)')\n",
    "axes.legend((\"Analytic\", \"simpegEM1D\"))"
   ]
  },
  {
   "cell_type": "code",
   "execution_count": null,
   "metadata": {},
   "outputs": [],
   "source": []
  },
  {
   "cell_type": "code",
   "execution_count": null,
   "metadata": {},
   "outputs": [],
   "source": []
  }
 ],
 "metadata": {
  "kernelspec": {
   "display_name": "Python 3",
   "language": "python",
   "name": "python3"
  },
  "language_info": {
   "codemirror_mode": {
    "name": "ipython",
    "version": 3
   },
   "file_extension": ".py",
   "mimetype": "text/x-python",
   "name": "python",
   "nbconvert_exporter": "python",
   "pygments_lexer": "ipython3",
   "version": "3.7.4"
  }
 },
 "nbformat": 4,
 "nbformat_minor": 1
}
