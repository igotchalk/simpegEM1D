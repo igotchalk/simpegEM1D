{
 "cells": [
  {
   "cell_type": "code",
   "execution_count": 1,
   "metadata": {
    "scrolled": true
   },
   "outputs": [
    {
     "name": "stdout",
     "output_type": "stream",
     "text": [
      "Populating the interactive namespace from numpy and matplotlib\n"
     ]
    }
   ],
   "source": [
    "from SimPEG import *\n",
    "from simpegEM1D import (\n",
    "    EM1D, EM1DSurveyTD, Utils1D, get_vertical_discretization_time, \n",
    "    set_mesh_1d, skytem_HM_2015\n",
    ")\n",
    "import numpy as np\n",
    "%pylab inline"
   ]
  },
  {
   "cell_type": "code",
   "execution_count": 2,
   "metadata": {},
   "outputs": [],
   "source": [
    "from simpegEM1D import skytem_HM_2015\n",
    "time = np.logspace(-5, -2, 31)\n",
    "# three layers\n",
    "hz = np.array([10, 10, 10])\n",
    "sigma_half = 0.1\n",
    "\n",
    "# half-space conductivity\n",
    "sigma = np.ones(hz.size) * sigma_half\n",
    "mesh1D = set_mesh_1d(hz)\n",
    "depth = -mesh1D.gridN[:-1]\n",
    "# offset b/w VMD source and Bz receiver\n",
    "offset = np.array([10.])\n",
    "\n",
    "LocSigZ = -mesh1D.gridCC\n",
    "TDsurvey = EM1DSurveyTD(\n",
    "    rx_location = np.array([0., 0., 100.]),\n",
    "    src_location = np.array([0., 0., 100.]),\n",
    "    topo = np.r_[0., 0., 100.],\n",
    "    depth = depth,\n",
    "    rx_type = 'Bz',\n",
    "    wave_type = 'stepoff',\n",
    "    src_type = 'VMD',\n",
    "    offset=offset,\n",
    "    time = time,\n",
    ")\n",
    "imap = maps.IdentityMap(mesh1D)\n",
    "sim = EM1D(mesh1D, survey=TDsurvey, sigmaMap=imap, verbose=False)\n",
    "bz = sim.dpred(sigma)"
   ]
  },
  {
   "cell_type": "code",
   "execution_count": 3,
   "metadata": {},
   "outputs": [],
   "source": [
    "from simpegEM1D import EM1DAnalytics\n",
    "from simpegEM1D.DigFilter import setFrequency, transFilt\n",
    "from scipy.constants import mu_0\n",
    "def bz_analytic_solution(r, t, sigma):\n",
    "    \"\"\"\n",
    "    r: offset bewteen VMD soure and Bz receiver (m)\n",
    "    t: measured times\n",
    "    sigma: conductivity of the half-space earth\n",
    "    \"\"\"\n",
    "    wt, tbase, omega_int = setFrequency(t)\n",
    "    hz = EM1DAnalytics.Hzanal(sigma, omega_int/2/np.pi, r, 'secondary')\n",
    "    # Treatment for inaccuracy in analytic solutions\n",
    "    ind = omega_int < 0.2\n",
    "    hz[ind] = 0.\n",
    "    hzTD, f0 = transFilt(hz, wt, tbase, omega_int, t)\n",
    "    return hzTD*mu_0"
   ]
  },
  {
   "cell_type": "code",
   "execution_count": 4,
   "metadata": {},
   "outputs": [],
   "source": [
    "bz_analytic = bz_analytic_solution(offset, time, sigma_half)"
   ]
  },
  {
   "cell_type": "code",
   "execution_count": 5,
   "metadata": {},
   "outputs": [
    {
     "data": {
      "text/plain": [
       "<matplotlib.legend.Legend at 0x267a01d2c88>"
      ]
     },
     "execution_count": 5,
     "metadata": {},
     "output_type": "execute_result"
    },
    {
     "data": {
      "image/png": "[encoded data removed]",
      "text/plain": [
       "<Figure size 504x360 with 1 Axes>"
      ]
     },
     "metadata": {
      "needs_background": "light"
     },
     "output_type": "display_data"
    }
   ],
   "source": [
    "fig, axes = subplots(1,1, figsize = (7,5))\n",
    "axes.plot(TDsurvey.time, bz_analytic, '-')\n",
    "axes.plot(TDsurvey.time, bz, 'o')\n",
    "axes.set_xscale('log')\n",
    "axes.set_yscale('log')\n",
    "axes.set_xlabel('Time (s)')\n",
    "axes.set_ylabel('Bz (T)')\n",
    "axes.legend((\"Analytic\", \"simpegEM1D\"))"
   ]
  },
  {
   "cell_type": "code",
   "execution_count": 7,
   "metadata": {},
   "outputs": [
    {
     "data": {
      "text/plain": [
       "array([nan, nan, nan, nan, nan, nan, nan, nan, nan, nan, nan, nan, nan,\n",
       "       nan, nan, nan, nan, nan, nan, nan, nan, nan, nan, nan, nan, nan,\n",
       "       nan, nan, nan, nan, nan])"
      ]
     },
     "execution_count": 7,
     "metadata": {},
     "output_type": "execute_result"
    }
   ],
   "source": []
  },
  {
   "cell_type": "code",
   "execution_count": null,
   "metadata": {},
   "outputs": [],
   "source": []
  }
 ],
 "metadata": {
  "kernelspec": {
   "display_name": "Python 3",
   "language": "python",
   "name": "python3"
  },
  "language_info": {
   "codemirror_mode": {
    "name": "ipython",
    "version": 3
   },
   "file_extension": ".py",
   "mimetype": "text/x-python",
   "name": "python",
   "nbconvert_exporter": "python",
   "pygments_lexer": "ipython3",
   "version": "3.7.4"
  }
 },
 "nbformat": 4,
 "nbformat_minor": 1
}
