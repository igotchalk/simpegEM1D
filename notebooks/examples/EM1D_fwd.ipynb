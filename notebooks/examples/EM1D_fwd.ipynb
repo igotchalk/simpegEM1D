{
 "cells": [
  {
   "cell_type": "code",
   "execution_count": 1,
   "metadata": {},
   "outputs": [
    {
     "name": "stdout",
     "output_type": "stream",
     "text": [
      "Populating the interactive namespace from numpy and matplotlib\n"
     ]
    }
   ],
   "source": [
    "from discretize import TensorMesh\n",
    "from SimPEG import maps\n",
    "from simpegEM1D.simulation_original import EM1DFMSimulation\n",
    "from simpegEM1D.survey_original import EM1DSurveyFD\n",
    "from simpegEM1D import analytics\n",
    "import numpy as np\n",
    "import matplotlib\n",
    "%pylab inline"
   ]
  },
  {
   "cell_type": "markdown",
   "metadata": {},
   "source": [
    "# Set up for EM1D program"
   ]
  },
  {
   "cell_type": "markdown",
   "metadata": {},
   "source": [
    "## Step1: Generate mesh"
   ]
  },
  {
   "cell_type": "code",
   "execution_count": 2,
   "metadata": {},
   "outputs": [],
   "source": [
    "nearthick = np.logspace(-1, 1, 5)\n",
    "deepthick = np.logspace(1, 2, 10)\n",
    "hx = np.r_[nearthick, deepthick]\n",
    "mesh1D = TensorMesh([hx], [0.])\n",
    "depth = -mesh1D.gridN[:-1]\n",
    "LocSigZ = -mesh1D.gridCC\n",
    "nlay = depth.size\n",
    "topo = np.r_[0., 0., 0.]"
   ]
  },
  {
   "cell_type": "markdown",
   "metadata": {},
   "source": [
    "## Step2: Set survey parameters"
   ]
  },
  {
   "cell_type": "code",
   "execution_count": 3,
   "metadata": {},
   "outputs": [
    {
     "name": "stdout",
     "output_type": "stream",
     "text": [
      "(61,)\n",
      "[1.00000000e-02 1.46779927e-02 2.15443469e-02 3.16227766e-02\n",
      " 4.64158883e-02 6.81292069e-02 1.00000000e-01 1.46779927e-01\n",
      " 2.15443469e-01 3.16227766e-01 4.64158883e-01 6.81292069e-01\n",
      " 1.00000000e+00 1.46779927e+00 2.15443469e+00 3.16227766e+00\n",
      " 4.64158883e+00 6.81292069e+00 1.00000000e+01 1.46779927e+01\n",
      " 2.15443469e+01 3.16227766e+01 4.64158883e+01 6.81292069e+01\n",
      " 1.00000000e+02 1.46779927e+02 2.15443469e+02 3.16227766e+02\n",
      " 4.64158883e+02 6.81292069e+02 1.00000000e+03 1.46779927e+03\n",
      " 2.15443469e+03 3.16227766e+03 4.64158883e+03 6.81292069e+03\n",
      " 1.00000000e+04 1.46779927e+04 2.15443469e+04 3.16227766e+04\n",
      " 4.64158883e+04 6.81292069e+04 1.00000000e+05 1.46779927e+05\n",
      " 2.15443469e+05 3.16227766e+05 4.64158883e+05 6.81292069e+05\n",
      " 1.00000000e+06 1.46779927e+06 2.15443469e+06 3.16227766e+06\n",
      " 4.64158883e+06 6.81292069e+06 1.00000000e+07 1.46779927e+07\n",
      " 2.15443469e+07 3.16227766e+07 4.64158883e+07 6.81292069e+07\n",
      " 1.00000000e+08]\n"
     ]
    }
   ],
   "source": [
    "FDsurvey = EM1DSurveyFD(\n",
    "    rx_location = np.array([0., 0., 0.]),\n",
    "    src_location = np.array([0., 0., 0.]),\n",
    "    field_type = 'secondary',\n",
    "    rx_type = 'Hz',\n",
    "    src_type = 'VMD',\n",
    "    depth = depth,\n",
    "    topo = topo,\n",
    "    frequency = np.logspace(-2, 8, 61),\n",
    "    offset = 8. * np.ones(61),\n",
    "    a = 1.,\n",
    "    I = 1.\n",
    ")\n",
    "\n",
    "Colesurvey = EM1DSurveyFD(\n",
    "    rx_location = np.array([0., 0., 0.]),\n",
    "    src_location = np.array([0., 0., 0.]),\n",
    "    field_type = 'secondary',\n",
    "    rx_type = 'Hz',\n",
    "    src_type = 'VMD',\n",
    "    depth = depth,\n",
    "    topo = topo,\n",
    "    frequency = np.logspace(-2, 8, 61),\n",
    "    offset = 8. * np.ones(61),\n",
    "    a = 1.,\n",
    "    I = 1.\n",
    ")\n",
    "\n",
    "print(np.shape(FDsurvey.frequency))\n",
    "print(FDsurvey.frequency)"
   ]
  },
  {
   "cell_type": "markdown",
   "metadata": {},
   "source": [
    "## Step3: Set mappings (Exponential and Cole-Cole maps)"
   ]
  },
  {
   "cell_type": "markdown",
   "metadata": {},
   "source": [
    "### Exponential map"
   ]
  },
  {
   "cell_type": "markdown",
   "metadata": {},
   "source": [
    "### $$ m = log(\\sigma) $$"
   ]
  },
  {
   "cell_type": "markdown",
   "metadata": {},
   "source": [
    "### $$ M_{exp}(m) = e^{m}$$"
   ]
  },
  {
   "cell_type": "markdown",
   "metadata": {},
   "source": [
    "### Cole-Cole map"
   ]
  },
  {
   "cell_type": "markdown",
   "metadata": {},
   "source": [
    "$$ m(\\sigma_{\\infty}, \\eta, \\tau, c; \\omega) = \\sigma_{\\infty} - \\sigma_{\\infty}\\eta \\frac{1}{1+(1-\\eta)(\\imath\\omega\\tau)^c}$$"
   ]
  },
  {
   "cell_type": "code",
   "execution_count": 4,
   "metadata": {},
   "outputs": [],
   "source": [
    "sig_half = 1e-2\n",
    "chi_half = 0.\n",
    "Expmap = maps.ExpMap(mesh1D)\n",
    "tau =  np.ones(nlay, dtype=float)*1e-1\n",
    "eta = np.ones(nlay, dtype=float)*0.5\n",
    "c = np.ones(nlay, dtype=float)*0.88"
   ]
  },
  {
   "cell_type": "code",
   "execution_count": 5,
   "metadata": {},
   "outputs": [],
   "source": [
    "m_1D = np.log(np.ones(nlay)*sig_half)"
   ]
  },
  {
   "cell_type": "code",
   "execution_count": 6,
   "metadata": {},
   "outputs": [
    {
     "ename": "AttributeError",
     "evalue": "'EM1DFMSimulation' object has no attribute 'half_switch'",
     "output_type": "error",
     "traceback": [
      "\u001b[1;31m---------------------------------------------------------------------------\u001b[0m",
      "\u001b[1;31mAttributeError\u001b[0m                            Traceback (most recent call last)",
      "\u001b[1;32m<ipython-input-6-242690c260c6>\u001b[0m in \u001b[0;36m<module>\u001b[1;34m\u001b[0m\n\u001b[0;32m      6\u001b[0m \u001b[1;33m\u001b[0m\u001b[0m\n\u001b[0;32m      7\u001b[0m \u001b[1;31m# Hz = simFD.dpred(m_1D)\u001b[0m\u001b[1;33m\u001b[0m\u001b[1;33m\u001b[0m\u001b[1;33m\u001b[0m\u001b[0m\n\u001b[1;32m----> 8\u001b[1;33m \u001b[0mHz\u001b[0m \u001b[1;33m=\u001b[0m \u001b[0msimFD\u001b[0m\u001b[1;33m.\u001b[0m\u001b[0mfields\u001b[0m\u001b[1;33m(\u001b[0m\u001b[0mm_1D\u001b[0m\u001b[1;33m)\u001b[0m\u001b[1;33m\u001b[0m\u001b[1;33m\u001b[0m\u001b[0m\n\u001b[0m\u001b[0;32m      9\u001b[0m \u001b[1;31m# print(np.shape(Hz))\u001b[0m\u001b[1;33m\u001b[0m\u001b[1;33m\u001b[0m\u001b[1;33m\u001b[0m\u001b[0m\n\u001b[0;32m     10\u001b[0m \u001b[1;31m# print(Hz)\u001b[0m\u001b[1;33m\u001b[0m\u001b[1;33m\u001b[0m\u001b[1;33m\u001b[0m\u001b[0m\n",
      "\u001b[1;32mD:\\Documents\\Repositories\\simpegEM1D\\simpegEM1D\\simulation_original.py\u001b[0m in \u001b[0;36mfields\u001b[1;34m(self, m)\u001b[0m\n\u001b[0;32m    313\u001b[0m     \u001b[1;31m# @profile\u001b[0m\u001b[1;33m\u001b[0m\u001b[1;33m\u001b[0m\u001b[1;33m\u001b[0m\u001b[0m\n\u001b[0;32m    314\u001b[0m     \u001b[1;32mdef\u001b[0m \u001b[0mfields\u001b[0m\u001b[1;33m(\u001b[0m\u001b[0mself\u001b[0m\u001b[1;33m,\u001b[0m \u001b[0mm\u001b[0m\u001b[1;33m)\u001b[0m\u001b[1;33m:\u001b[0m\u001b[1;33m\u001b[0m\u001b[1;33m\u001b[0m\u001b[0m\n\u001b[1;32m--> 315\u001b[1;33m         \u001b[0mf\u001b[0m \u001b[1;33m=\u001b[0m \u001b[0mself\u001b[0m\u001b[1;33m.\u001b[0m\u001b[0mforward\u001b[0m\u001b[1;33m(\u001b[0m\u001b[0mm\u001b[0m\u001b[1;33m,\u001b[0m \u001b[0moutput_type\u001b[0m\u001b[1;33m=\u001b[0m\u001b[1;34m'response'\u001b[0m\u001b[1;33m)\u001b[0m\u001b[1;33m\u001b[0m\u001b[1;33m\u001b[0m\u001b[0m\n\u001b[0m\u001b[0;32m    316\u001b[0m         \u001b[1;31m# self.survey._pred = utils.mkvc(self.survey.projectFields(f))\u001b[0m\u001b[1;33m\u001b[0m\u001b[1;33m\u001b[0m\u001b[1;33m\u001b[0m\u001b[0m\n\u001b[0;32m    317\u001b[0m         \u001b[1;32mreturn\u001b[0m \u001b[0mf\u001b[0m\u001b[1;33m\u001b[0m\u001b[1;33m\u001b[0m\u001b[0m\n",
      "\u001b[1;32mD:\\Documents\\Repositories\\simpegEM1D\\simpegEM1D\\simulation_original.py\u001b[0m in \u001b[0;36mforward\u001b[1;34m(self, m, output_type)\u001b[0m\n\u001b[0;32m    211\u001b[0m                     \u001b[0mself\u001b[0m\u001b[1;33m,\u001b[0m \u001b[0mlambd\u001b[0m\u001b[1;33m,\u001b[0m \u001b[0mf\u001b[0m\u001b[1;33m,\u001b[0m \u001b[0mn_layer\u001b[0m\u001b[1;33m,\u001b[0m\u001b[1;33m\u001b[0m\u001b[1;33m\u001b[0m\u001b[0m\n\u001b[0;32m    212\u001b[0m                     \u001b[0msig\u001b[0m\u001b[1;33m,\u001b[0m \u001b[0mchi\u001b[0m\u001b[1;33m,\u001b[0m \u001b[0mdepth\u001b[0m\u001b[1;33m,\u001b[0m \u001b[0mh\u001b[0m\u001b[1;33m,\u001b[0m \u001b[0mz\u001b[0m\u001b[1;33m,\u001b[0m\u001b[1;33m\u001b[0m\u001b[1;33m\u001b[0m\u001b[0m\n\u001b[1;32m--> 213\u001b[1;33m                     \u001b[0mflag\u001b[0m\u001b[1;33m,\u001b[0m \u001b[0mI\u001b[0m\u001b[1;33m,\u001b[0m \u001b[0moutput_type\u001b[0m\u001b[1;33m=\u001b[0m\u001b[0moutput_type\u001b[0m\u001b[1;33m\u001b[0m\u001b[1;33m\u001b[0m\u001b[0m\n\u001b[0m\u001b[0;32m    214\u001b[0m                 )\n\u001b[0;32m    215\u001b[0m \u001b[1;33m\u001b[0m\u001b[0m\n",
      "\u001b[1;32mD:\\Documents\\Repositories\\simpegEM1D\\simpegEM1D\\supporting_functions\\kernels.py\u001b[0m in \u001b[0;36mhz_kernel_vertical_magnetic_dipole\u001b[1;34m(simulation, lamda, f, n_layer, sig, chi, depth, h, z, flag, I, output_type)\u001b[0m\n\u001b[0;32m    560\u001b[0m                 rTE = rTEfunfwd(\n\u001b[0;32m    561\u001b[0m                     \u001b[0mn_layer\u001b[0m\u001b[1;33m,\u001b[0m \u001b[0mf\u001b[0m\u001b[1;33m,\u001b[0m \u001b[0mlamda\u001b[0m\u001b[1;33m,\u001b[0m \u001b[0msig\u001b[0m\u001b[1;33m,\u001b[0m \u001b[0mchi\u001b[0m\u001b[1;33m,\u001b[0m \u001b[0mdepth\u001b[0m\u001b[1;33m,\u001b[0m\u001b[1;33m\u001b[0m\u001b[1;33m\u001b[0m\u001b[0m\n\u001b[1;32m--> 562\u001b[1;33m                     \u001b[0msimulation\u001b[0m\u001b[1;33m.\u001b[0m\u001b[0mhalf_switch\u001b[0m\u001b[1;33m\u001b[0m\u001b[1;33m\u001b[0m\u001b[0m\n\u001b[0m\u001b[0;32m    563\u001b[0m                 )\n\u001b[0;32m    564\u001b[0m         \u001b[1;32melse\u001b[0m\u001b[1;33m:\u001b[0m\u001b[1;33m\u001b[0m\u001b[1;33m\u001b[0m\u001b[0m\n",
      "\u001b[1;31mAttributeError\u001b[0m: 'EM1DFMSimulation' object has no attribute 'half_switch'"
     ]
    }
   ],
   "source": [
    "# Conductivity\n",
    "simFD = EM1DFMSimulation(\n",
    "    mesh1D, survey=FDsurvey, sigmaMap=Expmap,\n",
    "    chi=np.zeros(nlay)\n",
    ")\n",
    "\n",
    "# Hz = simFD.dpred(m_1D)\n",
    "Hz = simFD.fields(m_1D)\n",
    "# print(np.shape(Hz))\n",
    "# print(Hz)"
   ]
  },
  {
   "cell_type": "code",
   "execution_count": null,
   "metadata": {},
   "outputs": [],
   "source": [
    "# Frequency-dependent conductivity\n",
    "simCole = EM1DFMSimulation(\n",
    "    mesh1D, survey=Colesurvey, sigmaMap=Expmap,\n",
    "    eta=eta, tau=tau, c=c,\n",
    "    chi=np.zeros(nlay)\n",
    ")\n",
    "\n",
    "# HzCole = simCole.dpred(m_1D)\n",
    "HzCole = simCole.fields(m_1D)\n",
    "Hzanal = analytics.Hzanal(sig_half, FDsurvey.frequency, FDsurvey.offset, 'secondary')\n",
    "print(np.shape(HzCole))\n",
    "print(HzCole)"
   ]
  },
  {
   "cell_type": "code",
   "execution_count": null,
   "metadata": {},
   "outputs": [],
   "source": [
    "matplotlib.rcParams['font.size'] = 16"
   ]
  },
  {
   "cell_type": "code",
   "execution_count": null,
   "metadata": {},
   "outputs": [],
   "source": [
    "fig, ax = plt.subplots(1,1, figsize = (8, 5))\n",
    "ax.loglog(FDsurvey.frequency, np.abs(np.real(Hz)), 'b-')\n",
    "ax.loglog(FDsurvey.frequency, np.abs(np.real(Hzanal)), 'bx')\n",
    "ax.loglog(FDsurvey.frequency, np.abs(np.imag(Hz)), 'r-')\n",
    "ax.loglog(FDsurvey.frequency, np.abs(np.imag(Hzanal)), 'rx')\n",
    "legend(('Real $H_{z}$', 'Real $H_{z \\ true}$', 'Imag $H_{z}$', 'Imag $H_{z \\ true}$'))"
   ]
  },
  {
   "cell_type": "code",
   "execution_count": null,
   "metadata": {},
   "outputs": [],
   "source": [
    "fig, ax = plt.subplots(1,1, figsize = (8, 5))\n",
    "ax.loglog(FDsurvey.frequency, np.abs(np.real(HzCole)), 'b-')\n",
    "ax.loglog(FDsurvey.frequency, np.abs(np.real(Hzanal)), 'bx')\n",
    "ax.loglog(FDsurvey.frequency, np.abs(np.imag(HzCole)), 'r-')\n",
    "ax.loglog(FDsurvey.frequency, np.abs(np.imag(Hzanal)), 'rx')\n",
    "legend(('Real $H_{z}$', 'Real $H_{z \\ IP}$', 'Imag $H_{z}$', 'Imag $H_{z \\ IP}$'))"
   ]
  },
  {
   "cell_type": "code",
   "execution_count": null,
   "metadata": {},
   "outputs": [],
   "source": []
  },
  {
   "cell_type": "code",
   "execution_count": null,
   "metadata": {},
   "outputs": [],
   "source": []
  }
 ],
 "metadata": {
  "kernelspec": {
   "display_name": "Python 3",
   "language": "python",
   "name": "python3"
  },
  "language_info": {
   "codemirror_mode": {
    "name": "ipython",
    "version": 3
   },
   "file_extension": ".py",
   "mimetype": "text/x-python",
   "name": "python",
   "nbconvert_exporter": "python",
   "pygments_lexer": "ipython3",
   "version": "3.7.4"
  }
 },
 "nbformat": 4,
 "nbformat_minor": 1
}
