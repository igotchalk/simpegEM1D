{
 "cells": [
  {
   "cell_type": "code",
   "execution_count": 1,
   "metadata": {},
   "outputs": [],
   "source": [
    "from SimPEG import *\n",
    "from simpegEM1D import *\n",
    "from scipy.constants import mu_0\n",
    "import numpy as np\n",
    "frequency = np.array([382, 1822, 7970, 35920, 130100], dtype=float)\n",
    "hz = get_vertical_discretization_frequency(frequency, sigma_background=0.01)\n",
    "mesh1D = set_mesh_1d(hz)\n",
    "depth = -mesh1D.gridN[:-1]\n",
    "LocSigZ = -mesh1D.gridCC\n",
    "\n",
    "FDsurvey = EM1DSurveyFD(\n",
    "    rx_location = np.array([0., 0., 100.+30.]),\n",
    "    src_location = np.array([0., 0., 100.+30.]),\n",
    "    field_type = 'secondary',\n",
    "    rx_type = 'ppm',\n",
    "    src_type = 'VMD',\n",
    "    offset = np.ones(5)*7.86,\n",
    "    topo = np.r_[0., 0., 100.],\n",
    "    depth = depth,\n",
    "    frequency = frequency\n",
    ")\n",
    "\n",
    "sig_half = 1e-3\n",
    "sig_blk = sig_half*50.\n",
    "chi_half = 0.\n",
    "expmap = Maps.ExpMap(mesh1D)\n",
    "sig  = np.ones(FDsurvey.n_layer)*sig_half\n",
    "blk_ind = (-50>LocSigZ) & (-80<LocSigZ)\n",
    "sig[blk_ind] = sig_blk\n",
    "# sig[-150>LocSigZ] = 0.1\n",
    "m_true = np.r_[np.log(sig)]"
   ]
  },
  {
   "cell_type": "code",
   "execution_count": 2,
   "metadata": {},
   "outputs": [],
   "source": [
    "prob = EM1D(\n",
    "    mesh1D, sigmaMap=expmap,\n",
    "    chi= np.zeros(FDsurvey.n_layer),\n",
    "    verbose=False\n",
    ")\n",
    "if prob.ispaired:\n",
    "    prob.unpair()\n",
    "if FDsurvey.ispaired:\n",
    "    FDsurvey.unpair()\n",
    "prob.pair(FDsurvey)     \n",
    "d_true = FDsurvey.dpred(m_true)\n",
    "m0 = np.ones_like(m_true) * np.log(sig_half)\n",
    "d_0 = FDsurvey.dpred(m0)"
   ]
  },
  {
   "cell_type": "code",
   "execution_count": 3,
   "metadata": {},
   "outputs": [],
   "source": [
    "FDsurvey.dtrue = d_true\n",
    "std = 0.05\n",
    "floor = 0.\n",
    "np.random.seed(1)\n",
    "uncert = std*abs(FDsurvey.dtrue)+floor\n",
    "noise = std*FDsurvey.dtrue*np.random.randn(FDsurvey.dtrue.size)\n",
    "FDsurvey.dobs = FDsurvey.dtrue+noise\n",
    "doi, _=prob.depth_of_investigation(uncert)\n",
    "delta = prob.get_threshold(uncert)"
   ]
  },
  {
   "cell_type": "code",
   "execution_count": 4,
   "metadata": {},
   "outputs": [
    {
     "name": "stdout",
     "output_type": "stream",
     "text": [
      "172.35910288100044 0.015955794996744738\n"
     ]
    }
   ],
   "source": [
    "print (doi, delta)"
   ]
  },
  {
   "cell_type": "code",
   "execution_count": 5,
   "metadata": {},
   "outputs": [],
   "source": [
    "from SimPEG import Regularization"
   ]
  },
  {
   "cell_type": "code",
   "execution_count": 6,
   "metadata": {
    "scrolled": false
   },
   "outputs": [
    {
     "name": "stdout",
     "output_type": "stream",
     "text": [
      "SimPEG.DataMisfit.l2_DataMisfit assigning default eps of 1e-5 * ||dobs||\n",
      "SimPEG.InvProblem will set Regularization.mref to m0.\n",
      "\n",
      "    SimPEG.InvProblem is setting bfgsH0 to the inverse of the eval2Deriv.\n",
      "    ***Done using same Solver and solverOpts as the problem***\n",
      "model has any nan: 0\n",
      "=============================== Projected GNCG ===============================\n",
      "  #     beta     phi_d     phi_m       f      |proj(x-g)-x|  LS    Comment   \n",
      "-----------------------------------------------------------------------------\n",
      "x0 has any nan: 0\n",
      "   0  1.70e+01  8.42e+02  0.00e+00  8.42e+02    6.45e+01      0              \n"
     ]
    },
    {
     "name": "stderr",
     "output_type": "stream",
     "text": [
      "/Users/sgkang/Projects/simpeg/SimPEG/Directives.py:885: UserWarning: Without a Linear preconditioner, convergence may be slow. Consider adding `Directives.UpdatePreconditioner` to your directives list\n",
      "  \"Without a Linear preconditioner, convergence may be slow. \"\n"
     ]
    },
    {
     "name": "stdout",
     "output_type": "stream",
     "text": [
      "   1  8.52e+00  6.82e+02  2.87e+00  7.07e+02    5.77e+01      0              \n",
      "   2  4.26e+00  4.02e+02  1.43e+01  4.63e+02    1.03e+02      0              \n",
      "   3  2.13e+00  8.57e+01  4.38e+01  1.79e+02    2.72e+02      0              \n",
      "   4  1.06e+00  1.68e+01  3.70e+01  5.61e+01    1.94e+01      0              \n",
      "   5  5.32e-01  1.17e+01  3.52e+01  3.05e+01    3.56e+01      1   Skip BFGS  \n",
      "   6  2.66e-01  9.29e+00  3.46e+01  1.85e+01    4.70e+01      1   Skip BFGS  \n",
      "   7  1.33e-01  7.45e+00  3.37e+01  1.19e+01    4.41e+01      1   Skip BFGS  \n",
      "   8  6.65e-02  5.29e+00  3.37e+01  7.53e+00    5.66e+00      0   Skip BFGS  \n",
      "Reached starting chifact with l2-norm regularization: Start IRLS steps...\n",
      "eps_p: 4.619386775262308 eps_q: 4.619386775262308\n",
      ">> Fix Jmatrix\n",
      "Eps_p: 3.849488979385257\n",
      "Eps_q: 3.849488979385257\n",
      "delta phim:    inf\n",
      "   9  3.33e-02  4.54e+00  4.84e+01  6.15e+00    2.79e+01      1   Skip BFGS  \n",
      ">> Fix Jmatrix\n",
      "Eps_p: 3.2079074828210477\n",
      "Eps_q: 3.2079074828210477\n",
      "delta phim: 7.441e-01\n",
      "  10  5.41e-02  4.00e+00  4.97e+01  6.68e+00    2.43e+00      0              \n",
      ">> Fix Jmatrix\n",
      "Eps_p: 2.6732562356842067\n",
      "Eps_q: 2.6732562356842067\n",
      "delta phim: 3.276e-02\n",
      "  11  9.48e-02  3.32e+00  4.92e+01  7.99e+00    2.06e+01      1              \n",
      ">> Fix Jmatrix\n",
      "Eps_p: 2.227713529736839\n",
      "Eps_q: 2.227713529736839\n",
      "delta phim: 4.107e-01\n",
      "  12  1.72e-01  3.08e+00  4.85e+01  1.14e+01    2.58e+00      0              \n",
      ">> Fix Jmatrix\n",
      "Eps_p: 1.856427941447366\n",
      "Eps_q: 1.856427941447366\n",
      "delta phim: 2.237e-02\n",
      "  13  3.09e-01  3.13e+00  4.32e+01  1.65e+01    1.60e+01      0              \n",
      ">> Fix Jmatrix\n",
      "Eps_p: 1.5470232845394716\n",
      "Eps_q: 1.5470232845394716\n",
      "delta phim: 3.360e-01\n",
      "  14  5.66e-01  2.99e+00  4.08e+01  2.61e+01    7.34e+00      0              \n",
      ">> Fix Jmatrix\n",
      "Eps_p: 1.2891860704495597\n",
      "Eps_q: 1.2891860704495597\n",
      "delta phim: 9.189e-02\n",
      "  15  9.79e-01  3.44e+00  3.84e+01  4.10e+01    1.38e+01      0              \n",
      ">> Fix Jmatrix\n",
      "Eps_p: 1.074321725374633\n",
      "Eps_q: 1.074321725374633\n",
      "delta phim: 2.503e-02\n",
      "  16  4.89e-01  5.02e+00  3.51e+01  2.22e+01    1.28e+01      0              \n",
      ">> Fix Jmatrix\n",
      "Eps_p: 0.895268104478861\n",
      "Eps_q: 0.895268104478861\n",
      "delta phim: 3.847e-02\n",
      "  17  2.45e-01  4.95e+00  3.39e+01  1.32e+01    4.12e+00      0              \n",
      ">> Fix Jmatrix\n",
      "Eps_p: 0.7460567537323841\n",
      "Eps_q: 0.7460567537323841\n",
      "delta phim: 2.283e-02\n",
      "  18  1.22e-01  4.78e+00  3.21e+01  8.70e+00    7.77e+00      0              \n",
      ">> Fix Jmatrix\n",
      "Eps_p: 0.6217139614436534\n",
      "Eps_q: 0.6217139614436534\n",
      "delta phim: 9.067e-03\n",
      "  19  1.94e-01  4.25e+00  3.18e+01  1.04e+01    3.11e+00      0   Skip BFGS  \n",
      ">> Fix Jmatrix\n",
      "Eps_p: 0.5180949678697112\n",
      "Eps_q: 0.5180949678697112\n",
      "delta phim: 3.956e-03\n",
      "  20  3.07e-01  4.32e+00  2.99e+01  1.35e+01    1.01e+01      0              \n",
      ">> Fix Jmatrix\n",
      "Eps_p: 0.4317458065580927\n",
      "Eps_q: 0.4317458065580927\n",
      "delta phim: 1.166e-02\n",
      "  21  4.90e-01  4.18e+00  2.77e+01  1.78e+01    1.25e+01      0              \n",
      ">> Fix Jmatrix\n",
      "Eps_p: 0.3597881721317439\n",
      "Eps_q: 0.3597881721317439\n",
      "delta phim: 8.923e-03\n",
      "  22  7.80e-01  4.23e+00  2.63e+01  2.47e+01    1.67e+01      0              \n",
      ">> Fix Jmatrix\n",
      "Eps_p: 0.29982347677645327\n",
      "Eps_q: 0.29982347677645327\n",
      "delta phim: 9.063e-03\n",
      "  23  1.22e+00  4.44e+00  2.47e+01  3.45e+01    2.44e+01      0              \n",
      ">> Fix Jmatrix\n",
      "Eps_p: 0.24985289731371108\n",
      "Eps_q: 0.24985289731371108\n",
      "delta phim: 1.245e-02\n",
      "  24  6.09e-01  4.58e+00  2.39e+01  1.91e+01    2.16e+01      0              \n",
      ">> Fix Jmatrix\n",
      "Eps_p: 0.2082107477614259\n",
      "Eps_q: 0.2082107477614259\n",
      "delta phim: 2.046e-02\n",
      "  25  3.05e-01  4.55e+00  2.34e+01  1.17e+01    1.83e+01      0              \n",
      ">> Fix Jmatrix\n",
      "Eps_p: 0.1735089564678549\n",
      "Eps_q: 0.1735089564678549\n",
      "delta phim: 1.715e-02\n",
      "  26  4.77e-01  4.43e+00  2.29e+01  1.54e+01    1.73e+01      0              \n",
      ">> Fix Jmatrix\n",
      "Eps_p: 0.14459079705654576\n",
      "Eps_q: 0.14459079705654576\n",
      "delta phim: 1.722e-02\n",
      "  27  7.46e-01  4.42e+00  2.22e+01  2.10e+01    1.64e+01      0              \n",
      ">> Fix Jmatrix\n",
      "Eps_p: 0.1204923308804548\n",
      "Eps_q: 0.1204923308804548\n",
      "delta phim: 2.699e-03\n",
      "  28  1.17e+00  4.37e+00  2.13e+01  2.93e+01    2.10e+01      0              \n",
      ">> Fix Jmatrix\n",
      "Reach maximum number of IRLS cycles: 20\n",
      "------------------------- STOP! -------------------------\n",
      "1 : |fc-fOld| = 0.0000e+00 <= tolF*(1+|f0|) = 8.4267e+01\n",
      "1 : |xc-x_last| = 1.5616e-01 <= tolX*(1+|x0|) = 3.1110e+00\n",
      "0 : |proj(x-g)-x|    = 2.1001e+01 <= tolG          = 1.0000e-01\n",
      "0 : |proj(x-g)-x|    = 2.1001e+01 <= 1e3*eps       = 1.0000e-02\n",
      "0 : maxIter   =      40    <= iter          =     29\n",
      "------------------------- DONE! -------------------------\n"
     ]
    }
   ],
   "source": [
    "\n",
    "dmisfit = DataMisfit.l2_DataMisfit(FDsurvey)\n",
    "dmisfit.W = 1./(abs(FDsurvey.dobs)*std+floor)\n",
    "\n",
    "reg = Regularization.Sparse(\n",
    "    mesh1D, mapping=Maps.IdentityMap(mesh1D)\n",
    ")\n",
    "p=0.\n",
    "qx, qz = 2., 2.\n",
    "reg.norms = np.c_[p, qx, qz, 0.]\n",
    "IRLS = Directives.Update_IRLS(\n",
    "    maxIRLSiter=20, minGNiter=1, fix_Jmatrix=True, coolingRate=2, \n",
    "    betaSearch=False,\n",
    "    chifact_start = 1.\n",
    ")\n",
    "opt = Optimization.ProjectedGNCG(maxIter = 40)\n",
    "opt.maxIterLS = 5\n",
    "invProb = InvProblem.BaseInvProblem(dmisfit, reg, opt)\n",
    "beta = Directives.BetaSchedule(coolingFactor=2, coolingRate=2)\n",
    "betaest = Directives.BetaEstimate_ByEig(beta0_ratio=1.)\n",
    "target = Directives.TargetMisfit()\n",
    "sense = Directives.UpdateSensitivityWeights(threshold=delta)\n",
    "# inv = Inversion.BaseInversion(invProb, directiveList=[beta,betaest,target])\n",
    "inv = Inversion.BaseInversion(invProb, directiveList=[IRLS, betaest])\n",
    "\n",
    "prob.counter = opt.counter = Utils.Counter()\n",
    "opt.LSshorten = 0.5\n",
    "opt.remember('xc')\n",
    "mopt = inv.run(m0)"
   ]
  },
  {
   "cell_type": "code",
   "execution_count": 7,
   "metadata": {},
   "outputs": [],
   "source": [
    "doi, act_ind = prob.depth_of_investigation(uncert)"
   ]
  },
  {
   "cell_type": "code",
   "execution_count": 8,
   "metadata": {},
   "outputs": [
    {
     "name": "stdout",
     "output_type": "stream",
     "text": [
      "230.0630993146064\n"
     ]
    }
   ],
   "source": [
    "print (doi)"
   ]
  },
  {
   "cell_type": "code",
   "execution_count": 9,
   "metadata": {},
   "outputs": [
    {
     "name": "stdout",
     "output_type": "stream",
     "text": [
      "Populating the interactive namespace from numpy and matplotlib\n"
     ]
    },
    {
     "name": "stderr",
     "output_type": "stream",
     "text": [
      "/Users/sgkang/anaconda2/envs/simpeg/lib/python3.6/site-packages/IPython/core/magics/pylab.py:160: UserWarning: pylab import has clobbered these variables: ['beta', 'floor', 'inv', 'pi', 'std']\n",
      "`%matplotlib` prevents importing * from pylab and numpy\n",
      "  \"\\n`%matplotlib` prevents importing * from pylab and numpy\"\n"
     ]
    },
    {
     "data": {
      "text/plain": [
       "[<matplotlib.lines.Line2D at 0x1a16459860>]"
      ]
     },
     "execution_count": 9,
     "metadata": {},
     "output_type": "execute_result"
    },
    {
     "data": {
      "image/png": "[encoded data removed]",
      "text/plain": [
       "<Figure size 360x576 with 1 Axes>"
      ]
     },
     "metadata": {},
     "output_type": "display_data"
    }
   ],
   "source": [
    "%pylab inline\n",
    "fig, ax = subplots(1,1, figsize=(5, 8))\n",
    "Utils1D.plotLayer(sig, mesh1D, showlayers=False)\n",
    "Utils1D.plotLayer(expmap*mopt, mesh1D, showlayers=False, **{'color':'r'})\n",
    "Utils1D.plotLayer(expmap*invProb.l2model, mesh1D, showlayers=False, **{'color':'b', 'lw':1})"
   ]
  },
  {
   "cell_type": "code",
   "execution_count": 10,
   "metadata": {},
   "outputs": [
    {
     "name": "stdout",
     "output_type": "stream",
     "text": [
      "230.0630993146064\n"
     ]
    }
   ],
   "source": [
    "print (doi)"
   ]
  },
  {
   "cell_type": "code",
   "execution_count": 11,
   "metadata": {},
   "outputs": [],
   "source": [
    "delta = prob.get_threshold(uncert)"
   ]
  },
  {
   "cell_type": "code",
   "execution_count": 12,
   "metadata": {},
   "outputs": [
    {
     "name": "stdout",
     "output_type": "stream",
     "text": [
      "0.0037711442200994323\n"
     ]
    }
   ],
   "source": [
    "print (delta)"
   ]
  },
  {
   "cell_type": "code",
   "execution_count": 13,
   "metadata": {
    "scrolled": false
   },
   "outputs": [],
   "source": [
    "# !python run_em1d.py"
   ]
  },
  {
   "cell_type": "code",
   "execution_count": 14,
   "metadata": {},
   "outputs": [
    {
     "data": {
      "image/png": "[encoded data removed]",
      "text/plain": [
       "<Figure size 504x360 with 1 Axes>"
      ]
     },
     "metadata": {},
     "output_type": "display_data"
    }
   ],
   "source": [
    "fig, axes = subplots(1,1, figsize = (7,5))\n",
    "axes.plot(FDsurvey.frequency, -invProb.dpred[0:FDsurvey.n_frequency], 'k.-')\n",
    "axes.plot(FDsurvey.frequency, -invProb.dpred[FDsurvey.n_frequency:], 'b.-')\n",
    "axes.plot(FDsurvey.frequency, -FDsurvey.dobs[0:FDsurvey.n_frequency], 'ko')\n",
    "axes.plot(FDsurvey.frequency, -FDsurvey.dobs[FDsurvey.n_frequency:], 'bo')\n",
    "# axes.plot(FDsurvey.frequency, uncert[0:FDsurvey.n_frequency], 'k*')\n",
    "# axes.plot(FDsurvey.frequency, uncert[FDsurvey.n_frequency:], 'r*')\n",
    "axes.set_xscale('log')"
   ]
  },
  {
   "cell_type": "code",
   "execution_count": 15,
   "metadata": {},
   "outputs": [],
   "source": [
    "from scipy.linalg.blas import cgemm\n",
    "import numpy as np"
   ]
  },
  {
   "cell_type": "code",
   "execution_count": 16,
   "metadata": {},
   "outputs": [
    {
     "data": {
      "text/plain": [
       "[<matplotlib.lines.Line2D at 0x1a21ca9390>]"
      ]
     },
     "execution_count": 16,
     "metadata": {},
     "output_type": "execute_result"
    },
    {
     "data": {
      "image/png": "[encoded data removed]",
      "text/plain": [
       "<Figure size 360x576 with 1 Axes>"
      ]
     },
     "metadata": {},
     "output_type": "display_data"
    }
   ],
   "source": [
    "fig, ax = subplots(1,1, figsize=(5, 8))\n",
    "Utils1D.plotLayer(sig, mesh1D, showlayers=True)"
   ]
  }
 ],
 "metadata": {
  "kernelspec": {
   "display_name": "Python 3",
   "language": "python",
   "name": "python3"
  },
  "language_info": {
   "codemirror_mode": {
    "name": "ipython",
    "version": 3
   },
   "file_extension": ".py",
   "mimetype": "text/x-python",
   "name": "python",
   "nbconvert_exporter": "python",
   "pygments_lexer": "ipython3",
   "version": "3.7.4"
  }
 },
 "nbformat": 4,
 "nbformat_minor": 1
}
