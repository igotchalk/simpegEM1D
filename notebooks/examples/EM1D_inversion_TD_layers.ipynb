{
 "cells": [
  {
   "cell_type": "code",
   "execution_count": 1,
   "metadata": {
    "scrolled": true
   },
   "outputs": [
    {
     "name": "stdout",
     "output_type": "stream",
     "text": [
      "Populating the interactive namespace from numpy and matplotlib\n"
     ]
    }
   ],
   "source": [
    "from SimPEG import *\n",
    "from simpegEM1D import (\n",
    "    EM1D, EM1DSurveyTD, Utils1D, get_vertical_discretization_time, \n",
    "    set_mesh_1d, skytem_HM_2015\n",
    ")\n",
    "import numpy as np\n",
    "%pylab inline"
   ]
  },
  {
   "cell_type": "code",
   "execution_count": 100,
   "metadata": {},
   "outputs": [],
   "source": []
  },
  {
   "cell_type": "code",
   "execution_count": 108,
   "metadata": {},
   "outputs": [],
   "source": []
  },
  {
   "cell_type": "code",
   "execution_count": 89,
   "metadata": {},
   "outputs": [],
   "source": [
    "from simpegEM1D import skytem_HM_2015\n",
    "time = np.logspace(np.log10(1e-6), -2, 41)\n",
    "hz = 0.5 * 1.1**(np.arange(25))\n",
    "mesh1D = set_mesh_1d(hz)\n",
    "depth = -mesh1D.gridN[:-1]\n",
    "LocSigZ = -mesh1D.gridCC\n",
    "src = np.r_[4.88927250e+05, 5.98386447e+06, 3.73558738e+02]\n",
    "rxOffset = np.r_[0, 0, -32]\n",
    "TDsurvey = EM1DSurveyTD(\n",
    "    rx_location = src+rxOffset,\n",
    "    src_location = src,\n",
    "    topo = np.r_[src[:2], src[2]-100.],\n",
    "    depth = depth,\n",
    "    rx_type = 'Bz',\n",
    "    wave_type = 'stepoff',\n",
    "    src_type = 'VMD',\n",
    "    I = 1.,\n",
    "    offset=np.r_[136.],\n",
    "    time = time,\n",
    "    base_frequency = 50.,\n",
    ")\n",
    "sig_half = 1./20.\n",
    "sig_blk = 1./20.\n",
    "chi_half = 0.\n",
    "expmap = Maps.ExpMap(mesh1D)"
   ]
  },
  {
   "cell_type": "code",
   "execution_count": 90,
   "metadata": {},
   "outputs": [],
   "source": [
    "sig  = np.ones(TDsurvey.n_layer)*sig_half\n",
    "blk_ind = (0>LocSigZ) & (-2<LocSigZ)\n",
    "sig[blk_ind] = sig_blk\n",
    "m_true = np.log(sig)"
   ]
  },
  {
   "cell_type": "code",
   "execution_count": 91,
   "metadata": {},
   "outputs": [
    {
     "data": {
      "text/plain": [
       "(50, 0)"
      ]
     },
     "execution_count": 91,
     "metadata": {},
     "output_type": "execute_result"
    },
    {
     "data": {
      "image/png": "[encoded data removed]",
      "text/plain": [
       "<Figure size 360x576 with 1 Axes>"
      ]
     },
     "metadata": {
      "needs_background": "light"
     },
     "output_type": "display_data"
    }
   ],
   "source": [
    "fig, ax = subplots(1,1, figsize=(5, 8))\n",
    "Utils1D.plotLayer(1./sig, mesh1D, showlayers=True, ax=ax)\n",
    "ax.set_xlabel(\"Resistivity (ohm-m)\")\n",
    "plt.ylim(50, 0)"
   ]
  },
  {
   "cell_type": "code",
   "execution_count": 92,
   "metadata": {},
   "outputs": [
    {
     "name": "stdout",
     "output_type": "stream",
     "text": [
      "Wall time: 88.8 ms\n"
     ]
    }
   ],
   "source": [
    "%%time\n",
    "prob = EM1D(mesh1D, sigmaMap=expmap, verbose=False)\n",
    "if prob.ispaired:\n",
    "    prob.unpair()\n",
    "if TDsurvey.ispaired:\n",
    "    TDsurvey.unpair()\n",
    "prob.pair(TDsurvey)\n",
    "prob.chi = np.zeros(TDsurvey.n_layer)\n",
    "d_true = TDsurvey.dpred(m_true)"
   ]
  },
  {
   "cell_type": "code",
   "execution_count": 117,
   "metadata": {},
   "outputs": [],
   "source": [
    "from scipy.constants import mu_0"
   ]
  },
  {
   "cell_type": "code",
   "execution_count": 119,
   "metadata": {},
   "outputs": [
    {
     "data": {
      "text/plain": [
       "<matplotlib.legend.Legend at 0x25a3c361cf8>"
      ]
     },
     "execution_count": 119,
     "metadata": {},
     "output_type": "execute_result"
    },
    {
     "data": {
      "image/png": "[encoded data removed]",
      "text/plain": [
       "<Figure size 504x360 with 1 Axes>"
      ]
     },
     "metadata": {
      "needs_background": "light"
     },
     "output_type": "display_data"
    }
   ],
   "source": [
    "fig, axes = subplots(1,1, figsize = (7,5))\n",
    "import geoana\n",
    "mag_dipole = geoana.em.static.MagneticDipoleWholeSpace(sigma=0., orientation='Z')\n",
    "bp = mag_dipole.magnetic_flux_density(np.array([[136, 0, -32]]))\n",
    "axes.plot(TDsurvey.time, -d_true/bp[0, 2], '.-')\n",
    "axes.plot(TDsurvey.time, +d_true/bp[0, 2], '.-')\n",
    "axes.set_xscale('log');\n",
    "axes.set_yscale('log');\n",
    "plt.legend(('-', '+'))"
   ]
  },
  {
   "cell_type": "code",
   "execution_count": null,
   "metadata": {},
   "outputs": [],
   "source": []
  },
  {
   "cell_type": "code",
   "execution_count": 76,
   "metadata": {},
   "outputs": [
    {
     "data": {
      "text/plain": [
       "array([136.,   0.,   0.])"
      ]
     },
     "execution_count": 76,
     "metadata": {},
     "output_type": "execute_result"
    }
   ],
   "source": [
    "rx-src"
   ]
  },
  {
   "cell_type": "code",
   "execution_count": 77,
   "metadata": {},
   "outputs": [],
   "source": [
    "np.random.seed(1)\n",
    "TDsurvey.dtrue = d_true\n",
    "std = 0.03\n",
    "noise = std*abs(TDsurvey.dtrue)*np.random.randn(*TDsurvey.dtrue.shape)\n",
    "floor = 0.\n",
    "std = 0.03\n",
    "TDsurvey.dobs = TDsurvey.dtrue+noise\n",
    "uncert = abs(TDsurvey.dobs)*std+floor"
   ]
  },
  {
   "cell_type": "code",
   "execution_count": 9,
   "metadata": {},
   "outputs": [
    {
     "name": "stdout",
     "output_type": "stream",
     "text": [
      "SimPEG.DataMisfit.l2_DataMisfit assigning default std of 5%\n",
      "SimPEG.DataMisfit.l2_DataMisfit assigning default eps of 1e-5 * ||dobs||\n"
     ]
    }
   ],
   "source": [
    "dmisfit = DataMisfit.l2_DataMisfit(TDsurvey)\n",
    "uncert = (abs(TDsurvey.dobs)*std+floor)\n",
    "dmisfit.W = 1./ uncert"
   ]
  },
  {
   "cell_type": "code",
   "execution_count": 10,
   "metadata": {},
   "outputs": [],
   "source": [
    "m0 = np.log(np.ones_like(sig)*sig_half)\n",
    "d_0 = TDsurvey.dpred(m0)\n",
    "# delta = prob.get_threshold(uncert)"
   ]
  },
  {
   "cell_type": "code",
   "execution_count": 11,
   "metadata": {},
   "outputs": [],
   "source": [
    "reg = Regularization.Sparse(\n",
    "    mesh1D,\n",
    "    mapping=Maps.IdentityMap(mesh1D),\n",
    "    alpha_s=1e-3,\n",
    "    alpha_x=1.,\n",
    ")\n",
    "p = 0\n",
    "qx, qz = 0., 0.\n",
    "reg.norms = np.c_[p, qx, qz, 0.]\n",
    "IRLS = Directives.Update_IRLS(\n",
    "    maxIRLSiter=20, minGNiter=1, fix_Jmatrix=False, coolingRate=2, betaSearch=False,\n",
    "    chifact_start = 1., f_min_change=1e-3\n",
    ")\n",
    "opt = Optimization.ProjectedGNCG(maxIter = 50, maxIterCG=30, tolG=1e-30, eps=1e-30)\n",
    "invProb = InvProblem.BaseInvProblem(dmisfit, reg, opt)\n",
    "beta = Directives.BetaSchedule(coolingFactor=2., coolingRate=1)\n",
    "betaest = Directives.BetaEstimate_ByEig(beta0_ratio=1e0)\n",
    "target = Directives.TargetMisfit()\n",
    "# update_sense = Directives.UpdateSensitivityWeights(threshold=delta)\n",
    "precond = Directives.UpdatePreconditioner()\n",
    "# inv = Inversion.BaseInversion(invProb, directiveList=[IRLS, betaest, precond])\n",
    "inv = Inversion.BaseInversion(invProb, directiveList=[beta, betaest, target, precond])\n",
    "prob.counter = opt.counter = Utils.Counter()\n",
    "opt.LSshorten = 0.5\n",
    "opt.remember('xc')"
   ]
  },
  {
   "cell_type": "code",
   "execution_count": 12,
   "metadata": {
    "scrolled": false
   },
   "outputs": [
    {
     "name": "stdout",
     "output_type": "stream",
     "text": [
      "SimPEG.InvProblem will set Regularization.mref to m0.\n",
      "\n",
      "    SimPEG.InvProblem is setting bfgsH0 to the inverse of the eval2Deriv.\n",
      "    ***Done using same Solver and solverOpts as the problem***\n",
      "Approximated diag(JtJ) with linear operator\n",
      "model has any nan: 0\n",
      "=============================== Projected GNCG ===============================\n",
      "  #     beta     phi_d     phi_m       f      |proj(x-g)-x|  LS    Comment   \n",
      "-----------------------------------------------------------------------------\n",
      "x0 has any nan: 0\n",
      "   0  7.85e+03  1.29e+02  0.00e+00  1.29e+02    2.37e+02      0              \n",
      "   1  3.93e+03  3.38e+01  1.75e-03  4.07e+01    6.18e+01      0              \n",
      "   2  1.96e+03  2.53e+01  2.77e-03  3.08e+01    1.82e+01      0              \n",
      "   3  9.81e+02  2.08e+01  4.44e-03  2.51e+01    1.27e+01      0   Skip BFGS  \n",
      "   4  4.91e+02  1.77e+01  6.63e-03  2.10e+01    8.70e+00      0   Skip BFGS  \n",
      "   5  2.45e+02  1.58e+01  9.39e-03  1.81e+01    5.67e+00      0   Skip BFGS  \n",
      "------------------------- STOP! -------------------------\n",
      "1 : |fc-fOld| = 0.0000e+00 <= tolF*(1+|f0|) = 1.2990e+01\n",
      "1 : |xc-x_last| = 1.4125e-01 <= tolX*(1+|x0|) = 1.9444e+00\n",
      "0 : |proj(x-g)-x|    = 5.6739e+00 <= tolG          = 1.0000e-30\n",
      "0 : |proj(x-g)-x|    = 5.6739e+00 <= 1e3*eps       = 1.0000e-27\n",
      "0 : maxIter   =      50    <= iter          =      6\n",
      "------------------------- DONE! -------------------------\n",
      "Wall time: 3.68 s\n"
     ]
    }
   ],
   "source": [
    "%%time\n",
    "mopt = inv.run(m0)"
   ]
  },
  {
   "cell_type": "code",
   "execution_count": 13,
   "metadata": {},
   "outputs": [
    {
     "name": "stdout",
     "output_type": "stream",
     "text": [
      "Counters:\n",
      "  ProjectedGNCG.activeSet                 :        6\n",
      "  ProjectedGNCG.doEndIteration            :        6\n",
      "  ProjectedGNCG.doStartIteration          :        6\n",
      "  ProjectedGNCG.projection                :       27\n",
      "  ProjectedGNCG.scaleSearchDirection      :        6\n",
      "\n",
      "Times:                                        mean      sum\n",
      "  EM1D.Jtvec_approx                       : 2.18e-04, 1.90e-02,   87x\n",
      "  EM1D.Jvec_approx                        : 4.85e-03, 4.22e-01,   87x\n",
      "  ProjectedGNCG.findSearchDirection       : 5.12e-02, 3.07e-01,    6x\n",
      "  ProjectedGNCG.minimize                  : 3.18e+00, 3.18e+00,    1x\n",
      "  ProjectedGNCG.modifySearchDirection     : 1.04e-01, 6.22e-01,    6x\n"
     ]
    }
   ],
   "source": [
    "opt.counter.summary()\n",
    "xc = opt.recall('xc')"
   ]
  },
  {
   "cell_type": "code",
   "execution_count": 14,
   "metadata": {},
   "outputs": [
    {
     "data": {
      "text/plain": [
       "Text(0.5, 0, 'Resistivity (ohm-m)')"
      ]
     },
     "execution_count": 14,
     "metadata": {},
     "output_type": "execute_result"
    },
    {
     "data": {
      "image/png": "[encoded data removed]",
      "text/plain": [
       "<Figure size 360x576 with 1 Axes>"
      ]
     },
     "metadata": {
      "needs_background": "light"
     },
     "output_type": "display_data"
    }
   ],
   "source": [
    "fig, ax = subplots(1,1, figsize=(5, 8))\n",
    "Utils1D.plotLayer(1./sig, mesh1D, ax=ax)\n",
    "Utils1D.plotLayer(1./(expmap*mopt), mesh1D, showlayers=True, **{'color':'r'}, ax=ax)\n",
    "# Utils1D.plotLayer(1/(expmap*invProb.l2model), mesh1D, showlayers=True, **{'color':'r'}, ax=ax)\n",
    "ax.set_ylim(50, 0)\n",
    "ax.set_xlabel(\"Resistivity (ohm-m)\")"
   ]
  },
  {
   "cell_type": "code",
   "execution_count": 16,
   "metadata": {},
   "outputs": [],
   "source": [
    "# titles = ['Smooth', 'Sharp']\n",
    "# fig, axs = subplots(1,2, figsize=(10, 8))\n",
    "# for ii, ax in enumerate(axs):\n",
    "#     Utils1D.plotLayer(1./sig, mesh1D, ax=ax)\n",
    "# Utils1D.plotLayer(1./(expmap*mopt), mesh1D, showlayers=True, **{'color':'r'}, ax=axs[1])\n",
    "# Utils1D.plotLayer(1/(expmap*invProb.l2model), mesh1D, showlayers=True, **{'color':'r'}, ax=axs[0])\n",
    "# for ii, ax in enumerate(axs):\n",
    "#     ax.set_xlabel(\"Resistivity (ohm-m)\")\n",
    "#     ax.set_title(titles[ii], fontsize=14)\n",
    "\n",
    "# axs[1].set_ylabel('')\n",
    "# ax.set_ylim(50, 0)"
   ]
  },
  {
   "cell_type": "code",
   "execution_count": 17,
   "metadata": {},
   "outputs": [
    {
     "data": {
      "image/png": "[encoded data removed]",
      "text/plain": [
       "<Figure size 504x360 with 1 Axes>"
      ]
     },
     "metadata": {
      "needs_background": "light"
     },
     "output_type": "display_data"
    }
   ],
   "source": [
    "fig, axes = plt.subplots(1,1, figsize = (7,5))\n",
    "axes.plot(TDsurvey.time, -invProb.dpred, 'b-')\n",
    "axes.plot(TDsurvey.time, -TDsurvey.dobs, 'bx')\n",
    "axes.set_xscale('log');\n",
    "axes.set_yscale('log');"
   ]
  }
 ],
 "metadata": {
  "kernelspec": {
   "display_name": "Python 3",
   "language": "python",
   "name": "python3"
  },
  "language_info": {
   "codemirror_mode": {
    "name": "ipython",
    "version": 3
   },
   "file_extension": ".py",
   "mimetype": "text/x-python",
   "name": "python",
   "nbconvert_exporter": "python",
   "pygments_lexer": "ipython3",
   "version": "3.7.3"
  }
 },
 "nbformat": 4,
 "nbformat_minor": 1
}
