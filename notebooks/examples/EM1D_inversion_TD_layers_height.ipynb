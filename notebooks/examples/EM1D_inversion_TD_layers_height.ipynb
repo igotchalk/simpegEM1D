{
 "cells": [
  {
   "cell_type": "code",
   "execution_count": 1,
   "metadata": {},
   "outputs": [
    {
     "name": "stdout",
     "output_type": "stream",
     "text": [
      "Populating the interactive namespace from numpy and matplotlib\n"
     ]
    }
   ],
   "source": [
    "from SimPEG import *\n",
    "from simpegEM1D import EM1D, EM1DSurveyTD, Utils1D, get_vertical_discretization_time, set_mesh_1d\n",
    "import numpy as np\n",
    "%pylab inline\n",
    "import empymod\n",
    "from simpegEM1D import skytem_HM_2015, skytem_LM_2015\n",
    "wave = skytem_LM_2015()\n",
    "# LM\n",
    "tind = 3\n",
    "time_input_currents = wave.current_times[-13:]\n",
    "input_currents = wave.currents[-13:]\n",
    "# time = wave.time_gate_center\n",
    "time = np.logspace(-5, -3, 21)\n",
    "hz = get_vertical_discretization_time(time, facter_tmax=0.5, factor_tmin=10.)\n",
    "\n",
    "mesh1D = set_mesh_1d(hz)\n",
    "depth = -mesh1D.gridN[:-1]\n",
    "LocSigZ = -mesh1D.gridCC\n",
    "\n",
    "# time_input_currents = wave.current_times[-7:]\n",
    "# input_currents = wave.currents[-7:]\n",
    "\n",
    "TDsurvey = EM1DSurveyTD(\n",
    "    rx_location = np.array([0., 0., 100.+30.]),\n",
    "    src_location = np.array([0., 0., 100.+30.]),\n",
    "    topo = np.r_[0., 0., 100.],\n",
    "    depth = depth,\n",
    "    rx_type = 'dBzdt',\n",
    "    wave_type = 'general',\n",
    "    src_type = 'CircularLoop',\n",
    "    a = 13.,\n",
    "    I = 1.,\n",
    "    time = time,\n",
    "    time_input_currents=time_input_currents,\n",
    "    input_currents=input_currents,\n",
    "    n_pulse = 2,\n",
    "    base_frequency = 210.,\n",
    "    use_lowpass_filter=False,\n",
    "    high_cut_frequency=1e5\n",
    ")\n",
    "\n",
    "sig_half = 1e-2\n",
    "sig_blk = 5e-1\n",
    "chi_half = 0.\n",
    "wires = Maps.Wires(('sigma', mesh1D.nC),('h', 1))\n",
    "expmap = Maps.ExpMap(mesh1D)\n",
    "sigmaMap = expmap * wires.sigma\n",
    "\n",
    "sig  = np.ones(TDsurvey.n_layer)*sig_half\n",
    "blk_ind = (-30>LocSigZ) & (-50<LocSigZ)\n",
    "sig[blk_ind] = sig_blk\n",
    "m_true = np.r_[np.log(sig), TDsurvey.h]\n",
    "m_true_dh = np.r_[np.log(sig), TDsurvey.h-5.]\n",
    "dh = 0.01\n",
    "m_dx_p = np.r_[np.log(sig), TDsurvey.h+dh/2]\n",
    "m_dx_n = np.r_[np.log(sig), TDsurvey.h-dh/2]\n",
    "\n",
    "prob = EM1D(mesh1D, sigmaMap=sigmaMap, hMap=wires.h)\n",
    "if prob.ispaired:\n",
    "    prob.unpair()\n",
    "if TDsurvey.ispaired:\n",
    "    TDsurvey.unpair()\n",
    "prob.pair(TDsurvey)\n",
    "prob.chi = np.zeros(TDsurvey.n_layer)\n",
    "d_true = TDsurvey.dpred(m_true)\n",
    "d_true_dh = TDsurvey.dpred(m_true_dh)\n",
    "d_p = TDsurvey.dpred(m_dx_p)\n",
    "d_n = TDsurvey.dpred(m_dx_n)\n",
    "\n",
    "np.random.seed(1)\n",
    "TDsurvey.dtrue = d_true\n",
    "std = 0.05\n",
    "noise = std*abs(TDsurvey.dtrue)*np.random.randn(TDsurvey.dtrue.shape[0])\n",
    "floor = 0.\n",
    "std = 0.05\n",
    "TDsurvey.dobs = TDsurvey.dtrue+noise\n",
    "uncert = abs(TDsurvey.dobs)*std+floor"
   ]
  },
  {
   "cell_type": "code",
   "execution_count": 2,
   "metadata": {},
   "outputs": [
    {
     "data": {
      "text/plain": [
       "(21, 1)"
      ]
     },
     "execution_count": 2,
     "metadata": {},
     "output_type": "execute_result"
    }
   ],
   "source": [
    "prob.getJ_height(m_true).shape"
   ]
  },
  {
   "cell_type": "code",
   "execution_count": 3,
   "metadata": {},
   "outputs": [
    {
     "data": {
      "text/plain": [
       "[<matplotlib.lines.Line2D at 0x15260d08e48>]"
      ]
     },
     "execution_count": 3,
     "metadata": {},
     "output_type": "execute_result"
    },
    {
     "data": {
      "image/png": "[encoded data removed]",
      "text/plain": [
       "<Figure size 432x288 with 1 Axes>"
      ]
     },
     "metadata": {
      "needs_background": "light"
     },
     "output_type": "display_data"
    }
   ],
   "source": [
    "J_h_diff = (d_p-d_n) / (dh)\n",
    "plt.plot(J_h_diff, 'k')\n",
    "plt.plot(prob.getJ_height(m_true), 'bx')"
   ]
  },
  {
   "cell_type": "code",
   "execution_count": 4,
   "metadata": {},
   "outputs": [
    {
     "data": {
      "image/png": "[encoded data removed]",
      "text/plain": [
       "<Figure size 504x360 with 1 Axes>"
      ]
     },
     "metadata": {},
     "output_type": "display_data"
    }
   ],
   "source": [
    "fig, axes = subplots(1,1, figsize = (7,5))\n",
    "axes.plot(TDsurvey.time, -d_true, 'b-')\n",
    "axes.plot(TDsurvey.time, -d_true_dh, 'k-')\n",
    "# axes.plot(TDsurvey.time, -TDsurvey.dobs, 'r.-')\n",
    "axes.set_xscale('log');\n",
    "axes.set_yscale('log');"
   ]
  },
  {
   "cell_type": "code",
   "execution_count": 5,
   "metadata": {},
   "outputs": [
    {
     "name": "stdout",
     "output_type": "stream",
     "text": [
      "SimPEG.DataMisfit.l2_DataMisfit assigning default eps of 1e-5 * ||dobs||\n"
     ]
    }
   ],
   "source": [
    "dmisfit = DataMisfit.l2_DataMisfit(TDsurvey)\n",
    "dmisfit.W = 1./(abs(TDsurvey.dobs)*std+floor)"
   ]
  },
  {
   "cell_type": "code",
   "execution_count": 6,
   "metadata": {},
   "outputs": [
    {
     "name": "stderr",
     "output_type": "stream",
     "text": [
      "/Users/sgkang/Projects/simpeg/SimPEG/Directives.py:903: UserWarning: Without a Linear preconditioner, convergence may be slow. Consider adding `Directives.UpdatePreconditioner` to your directives list\n",
      "  \"Without a Linear preconditioner, convergence may be slow. \"\n"
     ]
    }
   ],
   "source": [
    "m0 = np.r_[np.log(np.ones_like(sig)*sig_half), 29.]\n",
    "reg_sigma = Regularization.Sparse(\n",
    "    mesh1D, mapping=wires.sigma\n",
    ")\n",
    "p=0.\n",
    "qx, qz = 2., 2.\n",
    "reg_sigma.norms = np.c_[p, qx, qz, 0.]\n",
    "IRLS = Directives.Update_IRLS(\n",
    "    maxIRLSiter=20, minGNiter=1, fix_Jmatrix=True, coolingRate=2, \n",
    "    betaSearch=False,\n",
    "    chifact_start = 1.5\n",
    ")\n",
    "mesh_h = Mesh.TensorMesh([1])\n",
    "reg_h = Regularization.Sparse(\n",
    "    mesh_h, mapping=wires.h, \n",
    "    alpha_s = 1.\n",
    ")\n",
    "reg = reg_sigma + reg_h\n",
    "opt = Optimization.ProjectedGNCG(maxIter = 30)\n",
    "opt.maxIterLS = 5\n",
    "invProb = InvProblem.BaseInvProblem(dmisfit, reg, opt)\n",
    "beta = Directives.BetaSchedule(coolingFactor=2, coolingRate=2)\n",
    "betaest = Directives.BetaEstimate_ByEig(beta0_ratio=1.)\n",
    "target = Directives.TargetMisfit()\n",
    "update_sense = Directives.UpdateSensitivityWeights()\n",
    "# inv = Inversion.BaseInversion(invProb, directiveList=[beta, betaest, target])\n",
    "inv = Inversion.BaseInversion(invProb, directiveList=[IRLS,betaest])\n",
    "\n",
    "prob.counter = opt.counter = Utils.Counter()\n",
    "opt.LSshorten = 0.5\n",
    "opt.remember('xc')"
   ]
  },
  {
   "cell_type": "code",
   "execution_count": 7,
   "metadata": {
    "scrolled": false
   },
   "outputs": [
    {
     "name": "stdout",
     "output_type": "stream",
     "text": [
      "SimPEG.InvProblem will set Regularization.mref to m0.\n",
      "SimPEG.InvProblem will set Regularization.mref to m0.\n",
      "\n",
      "    SimPEG.InvProblem is setting bfgsH0 to the inverse of the eval2Deriv.\n",
      "    ***Done using same Solver and solverOpts as the problem***\n",
      "model has any nan: 0\n",
      "=============================== Projected GNCG ===============================\n",
      "  #     beta     phi_d     phi_m       f      |proj(x-g)-x|  LS    Comment   \n",
      "-----------------------------------------------------------------------------\n",
      "x0 has any nan: 0\n",
      "   0  1.23e+02  3.72e+03  0.00e+00  3.72e+03    2.49e+03      0              \n",
      "   1  1.23e+02  2.05e+03  1.89e+00  2.28e+03    4.34e+02      0              \n",
      "   2  6.13e+01  1.71e+03  3.11e+00  1.90e+03    2.23e+02      0   Skip BFGS  \n",
      "   3  6.13e+01  1.25e+03  7.29e+00  1.70e+03    1.32e+02      0              \n",
      "   4  3.06e+01  9.78e+02  1.01e+01  1.29e+03    2.33e+02      0              \n",
      "   5  3.06e+01  5.02e+02  1.94e+01  1.10e+03    2.19e+02      0              \n",
      "   6  1.53e+01  4.20e+02  1.75e+01  6.88e+02    1.83e+02      0              \n",
      "   7  1.53e+01  1.94e+02  2.65e+01  6.01e+02    3.06e+02      0              \n",
      "   8  7.66e+00  1.22e+02  2.50e+01  3.13e+02    9.76e+01      0              \n",
      "   9  7.66e+00  7.35e+01  2.83e+01  2.90e+02    7.05e+01      0   Skip BFGS  \n",
      "  10  3.83e+00  7.29e+01  2.76e+01  1.78e+02    3.97e+01      0              \n",
      "  11  3.83e+00  4.64e+01  3.20e+01  1.69e+02    2.67e+01      0              \n",
      "  12  1.92e+00  4.21e+01  3.29e+01  1.05e+02    3.50e+01      0   Skip BFGS  \n",
      "  13  1.92e+00  2.54e+01  3.84e+01  9.89e+01    2.03e+01      0              \n",
      "  14  9.58e-01  1.72e+01  4.00e+01  5.55e+01    3.72e+01      0              \n",
      "Reached starting chifact with l2-norm regularization: Start IRLS steps...\n",
      "eps_p: 4.197466291317213 eps_q: 4.197466291317213\n",
      "eps_p: 4.197466291317213 eps_q: 4.197466291317213\n",
      ">> Fix Jmatrix\n",
      "Eps_p: 3.497888576097678\n",
      "Eps_q: 3.497888576097678\n",
      "Eps_p: 3.497888576097678\n",
      "Eps_q: 3.497888576097678\n",
      "delta phim:    inf\n",
      "  15  9.58e-01  1.15e+01  5.32e+01  6.24e+01    1.55e+01      0              \n",
      ">> Fix Jmatrix\n",
      "Eps_p: 2.914907146748065\n",
      "Eps_q: 2.914907146748065\n",
      "Eps_p: 2.914907146748065\n",
      "Eps_q: 2.914907146748065\n",
      "delta phim: 4.975e-01\n",
      "  16  5.49e-01  1.63e+01  4.33e+01  4.00e+01    5.86e+01      0              \n",
      ">> Fix Jmatrix\n",
      "Eps_p: 2.429089288956721\n",
      "Eps_q: 2.429089288956721\n",
      "Eps_p: 2.429089288956721\n",
      "Eps_q: 2.429089288956721\n",
      "delta phim: 6.025e-02\n",
      "  17  3.20e-01  1.58e+01  3.72e+01  2.77e+01    5.10e+01      1   Skip BFGS  \n",
      ">> Fix Jmatrix\n",
      "Eps_p: 2.024241074130601\n",
      "Eps_q: 2.024241074130601\n",
      "Eps_p: 2.024241074130601\n",
      "Eps_q: 2.024241074130601\n",
      "delta phim: 1.641e-01\n",
      "  18  2.18e-01  1.21e+01  3.58e+01  1.99e+01    3.27e+01      0   Skip BFGS  \n",
      ">> Fix Jmatrix\n",
      "Eps_p: 1.6868675617755011\n",
      "Eps_q: 1.6868675617755011\n",
      "Eps_p: 1.6868675617755011\n",
      "Eps_q: 1.6868675617755011\n",
      "delta phim: 1.599e-01\n",
      "  19  2.18e-01  1.10e+01  3.49e+01  1.86e+01    9.30e+00      0              \n",
      ">> Fix Jmatrix\n",
      "Eps_p: 1.405722968146251\n",
      "Eps_q: 1.405722968146251\n",
      "Eps_p: 1.405722968146251\n",
      "Eps_q: 1.405722968146251\n",
      "delta phim: 5.891e-02\n",
      "  20  2.18e-01  1.09e+01  3.28e+01  1.81e+01    9.74e+00      0   Skip BFGS  \n",
      ">> Fix Jmatrix\n",
      "Eps_p: 1.1714358067885426\n",
      "Eps_q: 1.1714358067885426\n",
      "Eps_p: 1.1714358067885426\n",
      "Eps_q: 1.1714358067885426\n",
      "delta phim: 2.968e-03\n",
      "Minimum decrease in regularization. End of IRLS\n",
      "------------------------- STOP! -------------------------\n",
      "1 : |fc-fOld| = 0.0000e+00 <= tolF*(1+|f0|) = 3.7175e+02\n",
      "1 : |xc-x_last| = 3.5078e-01 <= tolX*(1+|x0|) = 3.6270e+00\n",
      "0 : |proj(x-g)-x|    = 9.7360e+00 <= tolG          = 1.0000e-01\n",
      "0 : |proj(x-g)-x|    = 9.7360e+00 <= 1e3*eps       = 1.0000e-02\n",
      "0 : maxIter   =      30    <= iter          =     21\n",
      "------------------------- DONE! -------------------------\n",
      "CPU times: user 19.8 s, sys: 1.06 s, total: 20.9 s\n",
      "Wall time: 28.1 s\n"
     ]
    }
   ],
   "source": [
    "%%time\n",
    "mopt = inv.run(m0)"
   ]
  },
  {
   "cell_type": "code",
   "execution_count": 8,
   "metadata": {},
   "outputs": [
    {
     "name": "stdout",
     "output_type": "stream",
     "text": [
      "Counters:\n",
      "  ProjectedGNCG.activeSet                 :       21\n",
      "  ProjectedGNCG.doEndIteration            :       21\n",
      "  ProjectedGNCG.doStartIteration          :       21\n",
      "  ProjectedGNCG.projection                :       88\n",
      "  ProjectedGNCG.scaleSearchDirection      :       21\n",
      "\n",
      "Times:                                        mean      sum\n",
      "  EM1D.Jtvec_approx                       : 2.02e-03, 1.98e-01,   98x\n",
      "  EM1D.Jvec_approx                        : 1.40e-02, 1.37e+00,   98x\n",
      "  ProjectedGNCG.findSearchDirection       : 7.83e-02, 1.64e+00,   21x\n",
      "  ProjectedGNCG.minimize                  : 2.66e+01, 2.66e+01,    1x\n",
      "  ProjectedGNCG.modifySearchDirection     : 1.90e-01, 3.98e+00,   21x\n"
     ]
    }
   ],
   "source": [
    "opt.counter.summary()\n",
    "xc = opt.recall('xc')"
   ]
  },
  {
   "cell_type": "code",
   "execution_count": 9,
   "metadata": {},
   "outputs": [
    {
     "data": {
      "image/png": "[encoded data removed]",
      "text/plain": [
       "<Figure size 504x360 with 1 Axes>"
      ]
     },
     "metadata": {},
     "output_type": "display_data"
    }
   ],
   "source": [
    "fig, axes = subplots(1,1, figsize = (7,5))\n",
    "axes.plot(TDsurvey.time, -invProb.dpred, 'b-')\n",
    "axes.plot(TDsurvey.time, -TDsurvey.dobs, 'bx')\n",
    "axes.set_xscale('log');\n",
    "axes.set_yscale('log');"
   ]
  },
  {
   "cell_type": "code",
   "execution_count": 10,
   "metadata": {},
   "outputs": [
    {
     "name": "stdout",
     "output_type": "stream",
     "text": [
      "[29.]\n",
      "[26.27009958]\n",
      "30.0\n"
     ]
    }
   ],
   "source": [
    "print (wires.h*m0)\n",
    "print (wires.h*mopt)\n",
    "print (TDsurvey.h)"
   ]
  },
  {
   "cell_type": "code",
   "execution_count": 13,
   "metadata": {},
   "outputs": [
    {
     "data": {
      "text/plain": [
       "[<matplotlib.lines.Line2D at 0x1a205cc828>]"
      ]
     },
     "execution_count": 13,
     "metadata": {},
     "output_type": "execute_result"
    },
    {
     "data": {
      "image/png": "[encoded data removed]",
      "text/plain": [
       "<Figure size 360x576 with 1 Axes>"
      ]
     },
     "metadata": {},
     "output_type": "display_data"
    }
   ],
   "source": [
    "fig, ax = subplots(1,1, figsize=(5, 8))\n",
    "Utils1D.plotLayer(sig, mesh1D)\n",
    "Utils1D.plotLayer(sigmaMap*mopt, mesh1D, showlayers=False, **{'color':'r'})\n",
    "# Utils1D.plotLayer(sigmaMap*invProb.l2model, mesh1D, showlayers=False, **{'color':'b', 'lw':1.})"
   ]
  },
  {
   "cell_type": "code",
   "execution_count": 14,
   "metadata": {},
   "outputs": [
    {
     "data": {
      "image/png": "[encoded data removed]",
      "text/plain": [
       "<Figure size 504x360 with 1 Axes>"
      ]
     },
     "metadata": {},
     "output_type": "display_data"
    }
   ],
   "source": [
    "fig, axes = subplots(1,1, figsize = (7,5))\n",
    "axes.plot(TDsurvey.time, -invProb.dpred, 'b-')\n",
    "axes.plot(TDsurvey.time, -TDsurvey.dobs, 'bx')\n",
    "axes.set_xscale('log');\n",
    "axes.set_yscale('log');"
   ]
  }
 ],
 "metadata": {
  "kernelspec": {
   "display_name": "Python 3",
   "language": "python",
   "name": "python3"
  },
  "language_info": {
   "codemirror_mode": {
    "name": "ipython",
    "version": 3
   },
   "file_extension": ".py",
   "mimetype": "text/x-python",
   "name": "python",
   "nbconvert_exporter": "python",
   "pygments_lexer": "ipython3",
   "version": "3.6.12"
  }
 },
 "nbformat": 4,
 "nbformat_minor": 1
}
