{
 "cells": [
  {
   "cell_type": "code",
   "execution_count": 1,
   "metadata": {},
   "outputs": [
    {
     "name": "stdout",
     "output_type": "stream",
     "text": [
      "Populating the interactive namespace from numpy and matplotlib\n"
     ]
    }
   ],
   "source": [
    "from SimPEG import *\n",
    "from simpegEM1D import EM1D, EM1DSurveyTD, Utils1D, get_vertical_discretization_time, set_mesh_1d\n",
    "import numpy as np\n",
    "%pylab inline"
   ]
  },
  {
   "cell_type": "code",
   "execution_count": 2,
   "metadata": {},
   "outputs": [],
   "source": [
    "from simpegEM1D import skytem_HM_2015, skytem_LM_2015\n",
    "wave = skytem_HM_2015()\n",
    "# LM\n",
    "tind = 3\n",
    "# time_input_currents = wave.current_times[-13:]\n",
    "# input_currents = wave.currents[-13:]\n",
    "time_input_currents = wave.current_times[-7:]\n",
    "input_currents = wave.currents[-7:]\n",
    "time = wave.time_gate_center[:tind]\n",
    "hz = get_vertical_discretization_time(time, facter_tmax=0.5, factor_tmin=10.)\n",
    "\n",
    "mesh1D = set_mesh_1d(hz)\n",
    "depth = -mesh1D.gridN[:-1]\n",
    "LocSigZ = -mesh1D.gridCC\n",
    "\n",
    "\n",
    "\n",
    "TDsurvey = EM1DSurveyTD(\n",
    "    rx_location = np.array([0., 0., 100.+30.]),\n",
    "    src_location = np.array([0., 0., 100.+30.]),\n",
    "    topo = np.r_[0., 0., 100.],\n",
    "    depth = depth,\n",
    "    rx_type = 'dBzdt',\n",
    "    wave_type = 'general',\n",
    "    src_type = 'CircularLoop',\n",
    "    a = 13.,\n",
    "    I = 1.,\n",
    "    time = time,\n",
    "    time_input_currents=time_input_currents,\n",
    "    input_currents=input_currents,\n",
    "    n_pulse = 2,\n",
    "    base_frequency = 250.,\n",
    "    use_lowpass_filter=False,\n",
    "    high_cut_frequency=1e5\n",
    ")\n",
    "\n",
    "sig_half = 1e-3\n",
    "sig_blk = 1e-2\n",
    "chi_half = 0.\n",
    "wires = Maps.Wires(('sigma', mesh1D.nC),('h', 1))\n",
    "expmap = Maps.ExpMap(mesh1D)\n",
    "sigmaMap = expmap * wires.sigma\n",
    "\n",
    "sig  = np.ones(TDsurvey.n_layer)*sig_half\n",
    "blk_ind = (-30>LocSigZ) & (-50<LocSigZ)\n",
    "sig[blk_ind] = sig_blk\n",
    "m_true = np.r_[np.log(sig), TDsurvey.h]\n",
    "\n",
    "prob = EM1D(mesh1D, sigmaMap=sigmaMap, hMap=wires.h)\n",
    "if prob.ispaired:\n",
    "    prob.unpair()\n",
    "if TDsurvey.ispaired:\n",
    "    TDsurvey.unpair()\n",
    "prob.pair(TDsurvey)\n",
    "prob.chi = np.zeros(TDsurvey.n_layer)\n",
    "d_true = TDsurvey.dpred(m_true)"
   ]
  },
  {
   "cell_type": "code",
   "execution_count": 3,
   "metadata": {},
   "outputs": [],
   "source": [
    "wave = skytem_HM_2015()\n",
    "# LM\n",
    "tind = 3\n",
    "# time_input_currents = wave.current_times[-13:]\n",
    "# input_currents = wave.currents[-13:]\n",
    "time_input_currents = wave.current_times[-7:]\n",
    "input_currents = wave.currents[-7:]\n",
    "time = wave.time_gate_center[:tind]\n",
    "hz = get_vertical_discretization_time(time, facter_tmax=0.5, factor_tmin=10.)\n",
    "\n",
    "mesh1D = Mesh.TensorMesh([1])\n",
    "\n",
    "\n",
    "TDsurvey = EM1DSurveyTD(\n",
    "    rx_location = np.array([0., 0., 100.+30.]),\n",
    "    src_location = np.array([0., 0., 100.+30.]),\n",
    "    topo = np.r_[0., 0., 100.],\n",
    "    depth = depth,\n",
    "    rx_type = 'dBzdt',\n",
    "    wave_type = 'general',\n",
    "    src_type = 'CircularLoop',\n",
    "    a = 13.,\n",
    "    I = 1.,\n",
    "    time = time,\n",
    "    time_input_currents=time_input_currents,\n",
    "    input_currents=input_currents,\n",
    "    n_pulse = 2,\n",
    "    base_frequency = 250.,\n",
    "    use_lowpass_filter=False,\n",
    "    high_cut_frequency=1e5,\n",
    "    half_switch=True\n",
    ")\n",
    "\n",
    "wires = Maps.Wires(('sigma', mesh1D.nC),('h', 1))\n",
    "expmap = Maps.ExpMap(mesh1D)\n",
    "sigmaMap = expmap * wires.sigma\n",
    "\n",
    "prob = EM1D(mesh1D, sigmaMap=sigmaMap, hMap=wires.h)\n",
    "if prob.ispaired:\n",
    "    prob.unpair()\n",
    "if TDsurvey.ispaired:\n",
    "    TDsurvey.unpair()\n",
    "prob.pair(TDsurvey)\n",
    "prob.chi = np.zeros(TDsurvey.n_layer)\n",
    "m0 = np.r_[np.log(sig_half), 20]\n",
    "d_0 = TDsurvey.dpred(m0)"
   ]
  },
  {
   "cell_type": "code",
   "execution_count": 4,
   "metadata": {},
   "outputs": [
    {
     "data": {
      "text/plain": [
       "array([[-1.75937059e-05],\n",
       "       [-1.27989616e-05],\n",
       "       [-9.46031014e-06]])"
      ]
     },
     "execution_count": 4,
     "metadata": {},
     "output_type": "execute_result"
    }
   ],
   "source": [
    "prob.getJ_sigma(m0)"
   ]
  },
  {
   "cell_type": "code",
   "execution_count": 5,
   "metadata": {},
   "outputs": [],
   "source": [
    "e = np.ones(3)"
   ]
  },
  {
   "cell_type": "code",
   "execution_count": 6,
   "metadata": {},
   "outputs": [
    {
     "data": {
      "text/plain": [
       "(1, 3)"
      ]
     },
     "execution_count": 6,
     "metadata": {},
     "output_type": "execute_result"
    }
   ],
   "source": [
    "e.reshape([1,-1]).shape"
   ]
  },
  {
   "cell_type": "code",
   "execution_count": 7,
   "metadata": {},
   "outputs": [],
   "source": [
    "np.random.seed(1)\n",
    "TDsurvey.dtrue = d_true\n",
    "std = 0.02\n",
    "noise = std*abs(TDsurvey.dtrue)*np.random.randn(*TDsurvey.dtrue.shape)\n",
    "floor = 0.\n",
    "std = 0.02\n",
    "TDsurvey.dobs = TDsurvey.dtrue+noise\n",
    "uncert = abs(TDsurvey.dobs)*std+floor"
   ]
  },
  {
   "cell_type": "code",
   "execution_count": 8,
   "metadata": {},
   "outputs": [
    {
     "data": {
      "image/png": "[encoded data removed]",
      "text/plain": [
       "<Figure size 504x360 with 1 Axes>"
      ]
     },
     "metadata": {},
     "output_type": "display_data"
    }
   ],
   "source": [
    "fig, axes = subplots(1,1, figsize = (7,5))\n",
    "axes.plot(TDsurvey.time, -d_true, 'b.-')\n",
    "axes.plot(TDsurvey.time, -d_0, 'r.-')\n",
    "axes.set_xscale('linear');\n",
    "axes.set_yscale('linear');"
   ]
  },
  {
   "cell_type": "code",
   "execution_count": 9,
   "metadata": {},
   "outputs": [
    {
     "name": "stdout",
     "output_type": "stream",
     "text": [
      "SimPEG.DataMisfit.l2_DataMisfit assigning default eps of 1e-5 * ||dobs||\n"
     ]
    }
   ],
   "source": [
    "dmisfit = DataMisfit.l2_DataMisfit(TDsurvey)\n",
    "dmisfit.W = 1./(abs(TDsurvey.dobs)*std+floor)"
   ]
  },
  {
   "cell_type": "code",
   "execution_count": 10,
   "metadata": {
    "scrolled": false
   },
   "outputs": [
    {
     "name": "stdout",
     "output_type": "stream",
     "text": [
      "SimPEG.InvProblem will set Regularization.mref to m0.\n",
      "SimPEG.InvProblem will set Regularization.mref to m0.\n",
      "\n",
      "    SimPEG.InvProblem is setting bfgsH0 to the inverse of the eval2Deriv.\n",
      "    ***Done using same Solver and solverOpts as the problem***\n",
      "model has any nan: 0\n",
      "=============================== Projected GNCG ===============================\n",
      "  #     beta     phi_d     phi_m       f      |proj(x-g)-x|  LS    Comment   \n",
      "-----------------------------------------------------------------------------\n",
      "x0 has any nan: 0\n",
      "   0  0.00e+00  1.60e+03  0.00e+00  1.60e+03    2.32e+03      0              \n",
      "   1  0.00e+00  6.22e+01  2.37e-01  6.22e+01    1.09e+03      1              \n",
      "   2  0.00e+00  2.07e+00  3.20e-01  2.07e+00    8.96e+01      0   Skip BFGS  \n",
      "   3  0.00e+00  1.76e+00  3.14e-01  1.76e+00    4.64e-01      0              \n",
      "------------------------- STOP! -------------------------\n",
      "1 : |fc-fOld| = 0.0000e+00 <= tolF*(1+|f0|) = 1.5978e+02\n",
      "0 : |xc-x_last| = 9.0452e+00 <= tolX*(1+|x0|) = 2.2159e+00\n",
      "0 : |proj(x-g)-x|    = 4.6415e-01 <= tolG          = 1.0000e-01\n",
      "0 : |proj(x-g)-x|    = 4.6415e-01 <= 1e3*eps       = 1.0000e-02\n",
      "0 : maxIter   =      20    <= iter          =      4\n",
      "------------------------- DONE! -------------------------\n"
     ]
    }
   ],
   "source": [
    "reg_sigma = Regularization.Simple(\n",
    "    mesh1D, mapping=wires.sigma\n",
    ")\n",
    "mesh_h = Mesh.TensorMesh([1])\n",
    "reg_h = Regularization.Simple(\n",
    "    mesh_h, mapping=wires.h, \n",
    ")\n",
    "reg = reg_sigma + reg_h\n",
    "opt = Optimization.ProjectedGNCG(maxIter = 20)\n",
    "opt.maxIterLS = 5\n",
    "invProb = InvProblem.BaseInvProblem(dmisfit, reg, opt)\n",
    "beta = Directives.BetaSchedule(coolingFactor=1., coolingRate=2)\n",
    "target = Directives.TargetMisfit()\n",
    "update_sense = Directives.UpdateSensitivityWeights()\n",
    "invProb.beta=0.\n",
    "inv = Inversion.BaseInversion(invProb, directiveList=[beta, target])\n",
    "# inv = Inversion.BaseInversion(invProb, directiveList=[beta, betaest, target])\n",
    "# inv = Inversion.BaseInversion(invProb, directiveList=[IRLS,betaest])\n",
    "\n",
    "prob.counter = opt.counter = Utils.Counter()\n",
    "opt.LSshorten = 0.5\n",
    "opt.remember('xc')\n",
    "mopt = inv.run(m0)"
   ]
  },
  {
   "cell_type": "code",
   "execution_count": 11,
   "metadata": {},
   "outputs": [
    {
     "name": "stdout",
     "output_type": "stream",
     "text": [
      "[20.]\n",
      "[29.03579728]\n",
      "30.0\n"
     ]
    }
   ],
   "source": [
    "print (wires.h*m0)\n",
    "print (wires.h*mopt)\n",
    "print (TDsurvey.h)"
   ]
  },
  {
   "cell_type": "code",
   "execution_count": 12,
   "metadata": {},
   "outputs": [
    {
     "name": "stdout",
     "output_type": "stream",
     "text": [
      "Counters:\n",
      "  ProjectedGNCG.activeSet                 :        4\n",
      "  ProjectedGNCG.doEndIteration            :        4\n",
      "  ProjectedGNCG.doStartIteration          :        4\n",
      "  ProjectedGNCG.projection                :       20\n",
      "  ProjectedGNCG.scaleSearchDirection      :        4\n",
      "\n",
      "Times:                                        mean      sum\n",
      "  EM1D.Jtvec_approx                       : 6.00e-04, 6.00e-03,   10x\n",
      "  EM1D.Jvec_approx                        : 2.00e-04, 2.00e-03,   10x\n",
      "  ProjectedGNCG.findSearchDirection       : 6.00e-03, 2.40e-02,    4x\n",
      "  ProjectedGNCG.minimize                  : 3.30e-01, 3.30e-01,    1x\n",
      "  ProjectedGNCG.modifySearchDirection     : 3.60e-02, 1.44e-01,    4x\n"
     ]
    }
   ],
   "source": [
    "opt.counter.summary()\n",
    "xc = opt.recall('xc')"
   ]
  },
  {
   "cell_type": "code",
   "execution_count": 13,
   "metadata": {},
   "outputs": [
    {
     "data": {
      "image/png": "[encoded data removed]",
      "text/plain": [
       "<Figure size 504x360 with 1 Axes>"
      ]
     },
     "metadata": {},
     "output_type": "display_data"
    }
   ],
   "source": [
    "fig, axes = subplots(1,1, figsize = (7,5))\n",
    "axes.plot(TDsurvey.time, -invProb.dpred, 'b-')\n",
    "axes.plot(TDsurvey.time, -TDsurvey.dobs, 'bx')\n",
    "axes.set_xscale('linear');\n",
    "axes.set_yscale('linear');"
   ]
  },
  {
   "cell_type": "code",
   "execution_count": null,
   "metadata": {},
   "outputs": [],
   "source": []
  },
  {
   "cell_type": "code",
   "execution_count": null,
   "metadata": {},
   "outputs": [],
   "source": []
  },
  {
   "cell_type": "code",
   "execution_count": null,
   "metadata": {},
   "outputs": [],
   "source": []
  },
  {
   "cell_type": "code",
   "execution_count": null,
   "metadata": {},
   "outputs": [],
   "source": []
  }
 ],
 "metadata": {
  "kernelspec": {
   "display_name": "Python 3",
   "language": "python",
   "name": "python3"
  },
  "language_info": {
   "codemirror_mode": {
    "name": "ipython",
    "version": 3
   },
   "file_extension": ".py",
   "mimetype": "text/x-python",
   "name": "python",
   "nbconvert_exporter": "python",
   "pygments_lexer": "ipython3",
   "version": "3.6.12"
  }
 },
 "nbformat": 4,
 "nbformat_minor": 1
}
