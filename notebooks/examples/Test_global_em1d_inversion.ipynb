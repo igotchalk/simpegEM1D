{
 "cells": [
  {
   "cell_type": "code",
   "execution_count": 1,
   "metadata": {},
   "outputs": [
    {
     "name": "stdout",
     "output_type": "stream",
     "text": [
      "Populating the interactive namespace from numpy and matplotlib\n"
     ]
    }
   ],
   "source": [
    "from SimPEG import maps, data\n",
    "import numpy as np\n",
    "from discretize import TensorMesh\n",
    "from matplotlib.colors import LogNorm\n",
    "from simpegEM1D.simulation_stitched1d_original import (\n",
    "    GlobalEM1DSimulationFD, GlobalEM1DSurveyFD\n",
    ")\n",
    "from simpegEM1D.EM1DSimulation_original import get_vertical_discretization_frequency\n",
    "from pymatsolver import PardisoSolver\n",
    "%pylab inline"
   ]
  },
  {
   "cell_type": "code",
   "execution_count": 2,
   "metadata": {},
   "outputs": [],
   "source": [
    "import empymod"
   ]
  },
  {
   "cell_type": "markdown",
   "metadata": {},
   "source": [
    "# Seting up a 2D mesh and model"
   ]
  },
  {
   "cell_type": "code",
   "execution_count": 3,
   "metadata": {},
   "outputs": [],
   "source": [
    "frequency = np.array([25., 100., 382, 1822, 7970, 35920], dtype=float)\n",
    "hz = get_vertical_discretization_frequency(frequency, sigma_background=0.1, n_layer=30)"
   ]
  },
  {
   "cell_type": "code",
   "execution_count": 4,
   "metadata": {},
   "outputs": [],
   "source": [
    "from scipy.spatial import Delaunay\n",
    "def PolygonInd(mesh, pts):\n",
    "    hull = Delaunay(pts)\n",
    "    inds = hull.find_simplex(mesh.gridCC)>=0\n",
    "    return inds"
   ]
  },
  {
   "cell_type": "code",
   "execution_count": 5,
   "metadata": {},
   "outputs": [],
   "source": [
    "n_sounding = 50\n",
    "dx = 100.\n",
    "hx = np.ones(n_sounding) * dx\n",
    "mesh = TensorMesh([hx, hz], x0='00')\n",
    "inds =  mesh.gridCC[:,1]<25\n",
    "sigma = np.ones(mesh.nC) * 1./20.\n",
    "sigma[inds] = 1./30.\n",
    "x0 = np.r_[0., 75.]\n",
    "x1 = np.r_[dx*n_sounding, 75.]\n",
    "x2 = np.r_[dx*n_sounding, 90.]\n",
    "x3 = np.r_[0., 200.]\n",
    "pts = np.vstack((x0, x1, x2, x3, x0))\n",
    "poly_inds = PolygonInd(mesh, pts)\n",
    "sigma[poly_inds] = 1./50\n",
    "sigma_em1d = sigma.reshape(mesh.vnC, order='F').flatten()\n",
    "chi = np.zeros_like(sigma_em1d)\n",
    "# chi[poly_inds] = 0.005"
   ]
  },
  {
   "cell_type": "code",
   "execution_count": 6,
   "metadata": {},
   "outputs": [
    {
     "data": {
      "image/png": "[encoded data removed]",
      "text/plain": [
       "<Figure size 432x288 with 2 Axes>"
      ]
     },
     "metadata": {
      "needs_background": "light"
     },
     "output_type": "display_data"
    }
   ],
   "source": [
    "cb = plt.colorbar(\n",
    "    mesh.plotImage(sigma, grid=False, clim=(1e-2, 1e-1),pcolorOpts={\"norm\":LogNorm()})[0],\n",
    "    fraction=0.03, pad=0.04\n",
    ")\n",
    "\n",
    "plt.ylim(mesh.vectorNy.max(), mesh.vectorNy.min())\n",
    "plt.gca().set_aspect(1)"
   ]
  },
  {
   "cell_type": "code",
   "execution_count": 12,
   "metadata": {},
   "outputs": [
    {
     "name": "stdout",
     "output_type": "stream",
     "text": [
      "[[  50.    0.    0.]\n",
      " [ 150.    0.    0.]\n",
      " [ 250.    0.    0.]\n",
      " [ 350.    0.    0.]\n",
      " [ 450.    0.    0.]\n",
      " [ 550.    0.    0.]\n",
      " [ 650.    0.    0.]\n",
      " [ 750.    0.    0.]\n",
      " [ 850.    0.    0.]\n",
      " [ 950.    0.    0.]\n",
      " [1050.    0.    0.]\n",
      " [1150.    0.    0.]\n",
      " [1250.    0.    0.]\n",
      " [1350.    0.    0.]\n",
      " [1450.    0.    0.]\n",
      " [1550.    0.    0.]\n",
      " [1650.    0.    0.]\n",
      " [1750.    0.    0.]\n",
      " [1850.    0.    0.]\n",
      " [1950.    0.    0.]\n",
      " [2050.    0.    0.]\n",
      " [2150.    0.    0.]\n",
      " [2250.    0.    0.]\n",
      " [2350.    0.    0.]\n",
      " [2450.    0.    0.]\n",
      " [2550.    0.    0.]\n",
      " [2650.    0.    0.]\n",
      " [2750.    0.    0.]\n",
      " [2850.    0.    0.]\n",
      " [2950.    0.    0.]\n",
      " [3050.    0.    0.]\n",
      " [3150.    0.    0.]\n",
      " [3250.    0.    0.]\n",
      " [3350.    0.    0.]\n",
      " [3450.    0.    0.]\n",
      " [3550.    0.    0.]\n",
      " [3650.    0.    0.]\n",
      " [3750.    0.    0.]\n",
      " [3850.    0.    0.]\n",
      " [3950.    0.    0.]\n",
      " [4050.    0.    0.]\n",
      " [4150.    0.    0.]\n",
      " [4250.    0.    0.]\n",
      " [4350.    0.    0.]\n",
      " [4450.    0.    0.]\n",
      " [4550.    0.    0.]\n",
      " [4650.    0.    0.]\n",
      " [4750.    0.    0.]\n",
      " [4850.    0.    0.]\n",
      " [4950.    0.    0.]]\n"
     ]
    }
   ],
   "source": [
    "x = mesh.vectorCCx\n",
    "y = np.zeros_like(x)\n",
    "z = np.ones_like(x) * 30.\n",
    "rx_locations = np.c_[x, y, z]\n",
    "src_locations = np.c_[x, y, z]\n",
    "topo = np.c_[x, y, z-30.].astype(float)\n",
    "print(topo)"
   ]
  },
  {
   "cell_type": "code",
   "execution_count": 8,
   "metadata": {},
   "outputs": [
    {
     "name": "stdout",
     "output_type": "stream",
     "text": [
      ">> Use multiprocessing for parallelization\n",
      ">> n_cpu: 2\n"
     ]
    }
   ],
   "source": [
    "mapping = maps.ExpMap(mesh)\n",
    "# mapping = Maps.IdentityMap(mesh)\n",
    "survey = GlobalEM1DSurveyFD(\n",
    "    rx_locations = rx_locations,\n",
    "    src_locations = src_locations,    \n",
    "    frequency = frequency,\n",
    "    offset = np.ones_like(frequency) * 7.86,\n",
    "    src_type = \"VMD\",\n",
    "    rx_type = \"ppm\",\n",
    "    field_type = 'secondary',\n",
    "    topo = topo\n",
    ")\n",
    "sim = GlobalEM1DSimulationFD(\n",
    "    mesh, survey=survey, sigmaMap=mapping, chi=chi, hz=hz, parallel=True, n_cpu=2, verbose=True,\n",
    "    Solver=PardisoSolver\n",
    ")\n",
    "\n",
    "m = np.log(sigma_em1d)\n",
    "# m =  sigma_em1d.copy()\n",
    "\n",
    "sim.sigma = m"
   ]
  },
  {
   "cell_type": "code",
   "execution_count": 9,
   "metadata": {},
   "outputs": [
    {
     "name": "stdout",
     "output_type": "stream",
     "text": [
      "Number of arguments\n",
      "18\n",
      "Print arguments\n",
      "[50.  0. 30.]\n",
      "[50.  0. 30.]\n",
      "[50.  0.  0.]\n",
      "[ 2.09938445  2.30487219  2.53047306  2.77815575  3.05008161  3.34862358\n",
      "  3.67638684  4.03623155  4.43129787  4.86503328  5.3412227   5.86402155\n",
      "  6.43799194  7.06814254  7.75997229  8.51951832  9.35340872 10.2689203\n",
      " 11.27404215 12.37754533 13.58905938 14.91915642 16.37944335 17.98266316\n",
      " 19.74280611 21.67523184 23.79680338 26.12603434 28.68325041 31.49076677]\n",
      "[7.86 7.86 7.86 7.86 7.86 7.86]\n",
      "[2.500e+01 1.000e+02 3.820e+02 1.822e+03 7.970e+03 3.592e+04]\n",
      "secondary\n",
      "ppm\n",
      "VMD\n",
      "[-3.40119738 -3.40119738 -3.40119738 -3.40119738 -3.40119738 -3.40119738\n",
      " -3.40119738 -3.40119738 -2.99573227 -2.99573227 -2.99573227 -2.99573227\n",
      " -2.99573227 -2.99573227 -2.99573227 -2.99573227 -3.91202301 -3.91202301\n",
      " -3.91202301 -3.91202301 -3.91202301 -3.91202301 -3.91202301 -3.91202301\n",
      " -3.91202301 -2.99573227 -2.99573227 -2.99573227 -2.99573227 -2.99573227]\n",
      "[0. 0. 0. 0. 0. 0. 0. 0. 0. 0. 0. 0. 0. 0. 0. 0. 0. 0. 0. 0. 0. 0. 0. 0.\n",
      " 0. 0. 0. 0. 0. 0.]\n",
      "[0.001 0.001 0.001 0.001 0.001 0.001 0.001 0.001 0.001 0.001 0.001 0.001\n",
      " 0.001 0.001 0.001 0.001 0.001 0.001 0.001 0.001 0.001 0.001 0.001 0.001\n",
      " 0.001 0.001 0.001 0.001 0.001 0.001]\n",
      "[1. 1. 1. 1. 1. 1. 1. 1. 1. 1. 1. 1. 1. 1. 1. 1. 1. 1. 1. 1. 1. 1. 1. 1.\n",
      " 1. 1. 1. 1. 1. 1.]\n",
      "[0. 0. 0. 0. 0. 0. 0. 0. 0. 0. 0. 0. 0. 0. 0. 0. 0. 0. 0. 0. 0. 0. 0. 0.\n",
      " 0. 0. 0. 0. 0. 0.]\n",
      "1.0\n",
      "forward\n",
      "False\n",
      "False\n"
     ]
    }
   ],
   "source": [
    "ARGS = sim.input_args(0)\n",
    "print(\"Number of arguments\")\n",
    "print(len(ARGS))\n",
    "print(\"Print arguments\")\n",
    "for ii in range(0, len(ARGS)):\n",
    "    print(ARGS[ii])"
   ]
  },
  {
   "cell_type": "code",
   "execution_count": null,
   "metadata": {},
   "outputs": [],
   "source": [
    "# %%time\n",
    "# dobs = sim.makeSyntheticData(m, std=0.03, force=True)\n",
    "d_true = sim.dpred(m)\n",
    "std = 0.03\n",
    "floor = 0.\n",
    "np.random.seed(1)\n",
    "uncert = std*abs(d_true)+floor\n",
    "noise = std*np.abs(d_true)*np.random.randn(len(d_true))\n",
    "d_obs = d_true + noise\n"
   ]
  },
  {
   "cell_type": "code",
   "execution_count": null,
   "metadata": {},
   "outputs": [],
   "source": []
  },
  {
   "cell_type": "code",
   "execution_count": null,
   "metadata": {},
   "outputs": [],
   "source": [
    "DOBS = d_obs.reshape(( sim.n_sounding, 2, survey.n_frequency))\n",
    "i_freq=0\n",
    "plt.semilogy(mesh.vectorCCx, DOBS[:,0,i_freq], 'k')\n",
    "plt.semilogy(mesh.vectorCCx, DOBS[:,1,i_freq], 'b')    \n",
    "plt.legend((\"In-phase\", \"Quadrature\"), bbox_to_anchor=(1,1))\n",
    "for i_freq in range(survey.n_frequency):\n",
    "    plt.semilogy(mesh.vectorCCx, DOBS[:,0,i_freq], 'k')\n",
    "for i_freq in range(survey.n_frequency):\n",
    "    plt.semilogy(mesh.vectorCCx, DOBS[:,1,i_freq], 'b')    \n",
    "plt.xlabel(\"Distance (m)\")\n",
    "plt.ylabel(\"Hz/Hp (ppm)\")"
   ]
  },
  {
   "cell_type": "code",
   "execution_count": null,
   "metadata": {},
   "outputs": [],
   "source": [
    "from SimPEG import (\n",
    "    regularization, directives, inversion, inverse_problem, optimization, data_misfit, utils\n",
    ")\n",
    "from simpegEM1D import get_2d_mesh, LateralConstraint"
   ]
  },
  {
   "cell_type": "code",
   "execution_count": null,
   "metadata": {},
   "outputs": [],
   "source": [
    "def run_inversion(option=None, ps=2, px=2, pz=2, alpha_s=1., alpha_x=1., alpha_z=1.):\n",
    "    \n",
    "    mapping = maps.ExpMap(mesh)\n",
    "    # mapping = Maps.IdentityMap(mesh)\n",
    "    survey = GlobalEM1DSurveyFD(\n",
    "        rx_locations = rx_locations,\n",
    "        src_locations = src_locations,    \n",
    "        frequency = frequency,\n",
    "        offset = np.ones_like(frequency) * 7.86,\n",
    "        src_type = \"VMD\",\n",
    "        rx_type = \"ppm\",\n",
    "        field_type = 'secondary',\n",
    "        topo = topo\n",
    "    )\n",
    "\n",
    "    sim = GlobalEM1DSimulationFD(\n",
    "        mesh, survey=survey, sigmaMap=mapping, chi=chi, hz=hz, parallel=True, n_cpu=2, verbose=True,\n",
    "        Solver=PardisoSolver\n",
    "    )\n",
    "\n",
    "#     m = np.log(sigma_em1d)\n",
    "\n",
    "    std = 0.03\n",
    "    floor = 0.\n",
    "    np.random.seed(1)\n",
    "    uncert = std*abs(d_obs)+floor\n",
    "    dataObj = data.Data(survey, dobs=d_obs, noise_floor=uncert)\n",
    "    \n",
    "    mesh_reg = get_2d_mesh(n_sounding, hz)\n",
    "    regmap = maps.IdentityMap(mesh_reg)\n",
    "    # mapping is required ... for IRLS\n",
    "    reg = LateralConstraint(\n",
    "        mesh_reg, mapping=regmap,\n",
    "        alpha_s = alpha_s,\n",
    "        alpha_x = alpha_x,\n",
    "        alpha_y = alpha_z,\n",
    "    )\n",
    "    xy = utils.ndgrid(np.arange(n_sounding), np.r_[0.])\n",
    "    reg.get_grad_horizontal(xy, hz, dim=2, use_cell_weights=True)\n",
    "    \n",
    "    \n",
    "    m0 = np.ones(mesh_reg.nC) * np.log(1./20.)\n",
    "#     m0 = np.ones(mesh_reg.nC) *1./20.\n",
    "    dmisfit = data_misfit.L2DataMisfit(dataObj, sim)\n",
    "    dmisfit.W = 1./uncert\n",
    "    ps = ps\n",
    "    px, pz = px, pz\n",
    "    reg.norms = np.c_[ps, px, pz, 0.]\n",
    "    IRLS = directives.Update_IRLS(\n",
    "        max_irls_iterations=30, minGNiter=1, \n",
    "        fix_Jmatrix=True, \n",
    "        f_min_change = 1e-4,\n",
    "        coolingRate=3\n",
    "    )\n",
    "    opt = optimization.InexactGaussNewton(maxIter = 40, maxIterCG=20)\n",
    "    \n",
    "    invProb = inverse_problem.BaseInvProblem(dmisfit, reg, opt)\n",
    "    \n",
    "    beta = directives.BetaSchedule(coolingFactor=2, coolingRate=1)\n",
    "    sense = directives.UpdateSensitivityWeights()\n",
    "    betaest = directives.BetaEstimate_ByEig(beta0_ratio=1.)\n",
    "    target = directives.TargetMisfit()\n",
    "    update_precon = directives.UpdatePreconditioner()\n",
    "    if option is None:\n",
    "        reg.alpha_x=0.\n",
    "        inv = inversion.BaseInversion(invProb, directiveList=[beta,sense,betaest,target])        \n",
    "    elif option == \"l2\":\n",
    "        reg.alpha_x=10.        \n",
    "        inv = inversion.BaseInversion(invProb, directiveList=[beta, sense, betaest, target])\n",
    "    elif option == \"l0\":\n",
    "        inv = inversion.BaseInversion(invProb, directiveList=[IRLS, sense, betaest])\n",
    "#     prob.counter = opt.counter = Utils.Counter()\n",
    "    opt.LSshorten = 0.5\n",
    "    opt.remember('xc')\n",
    "#     print (reg.cell_weights)\n",
    "    mopt = inv.run(m0) \n",
    "    if option == 'l0':\n",
    "        return mopt, invProb.l2model, invProb.dpred\n",
    "    else:\n",
    "        return mopt, None, invProb.dpred"
   ]
  },
  {
   "cell_type": "code",
   "execution_count": null,
   "metadata": {
    "scrolled": false
   },
   "outputs": [],
   "source": [
    "# mopt_none, pred = run_inversion(option=None)"
   ]
  },
  {
   "cell_type": "code",
   "execution_count": null,
   "metadata": {},
   "outputs": [],
   "source": [
    "# mopt_l2, pred = run_inversion(option='l2')"
   ]
  },
  {
   "cell_type": "code",
   "execution_count": null,
   "metadata": {
    "scrolled": false
   },
   "outputs": [],
   "source": [
    "mopt_l0_ps0, mopt_l2_ps0, pred = run_inversion(option='l2', ps=0, px=2, pz=2, alpha_s=1., alpha_x=10., alpha_z=1.)"
   ]
  },
  {
   "cell_type": "code",
   "execution_count": null,
   "metadata": {
    "scrolled": false
   },
   "outputs": [],
   "source": [
    "mopt_l0_qx2, mopt_l2_qx2, pred = run_inversion(option='l0', ps=2, px=2, pz=0, alpha_s=1e-2, alpha_x=10., alpha_z=1.)"
   ]
  },
  {
   "cell_type": "code",
   "execution_count": null,
   "metadata": {
    "scrolled": false
   },
   "outputs": [],
   "source": [
    "mopt_l0, mopt_l2, pred = run_inversion(option='l0', ps=2, px=0, pz=0, alpha_s=1e-2, alpha_x=10., alpha_z=1.)"
   ]
  },
  {
   "cell_type": "code",
   "execution_count": null,
   "metadata": {},
   "outputs": [],
   "source": [
    "DOBS = d_obs.reshape((sim.n_sounding, 2, survey.n_frequency))\n",
    "DPRED = pred.reshape((sim.n_sounding, 2, survey.n_frequency))\n",
    "for i_freq in range(survey.n_frequency):\n",
    "    plt.semilogy(mesh.vectorCCx, DOBS[:,0,i_freq], 'k')\n",
    "    plt.semilogy(mesh.vectorCCx, DPRED[:,0,i_freq], 'kx')\n",
    "for i_freq in range(survey.n_frequency):\n",
    "    plt.semilogy(mesh.vectorCCx, DOBS[:,1,i_freq], 'b')\n",
    "    plt.semilogy(mesh.vectorCCx, DPRED[:,1,i_freq], 'bx')"
   ]
  },
  {
   "cell_type": "code",
   "execution_count": null,
   "metadata": {},
   "outputs": [],
   "source": [
    "sigma_est_l2 = utils.mkvc((np.exp(mopt_l2)).reshape((sim.n_sounding, sim.n_layer)))\n",
    "sigma_est_l2_qx2 = utils.mkvc((np.exp(mopt_l2_qx2)).reshape((sim.n_sounding, sim.n_layer)))\n",
    "# sigma_est_l2_ps0 = utils.mkvc((np.exp(mopt_l2_ps0)).reshape((sim.n_sounding, sim.n_layer)))\n",
    "\n",
    "sigma_est_l0 = utils.mkvc((np.exp(mopt_l0)).reshape((sim.n_sounding, sim.n_layer)))\n",
    "sigma_est_l0_qx2 = utils.mkvc((np.exp(mopt_l0_qx2)).reshape((sim.n_sounding, sim.n_layer)))\n",
    "sigma_est_l0_ps0 = utils.mkvc((np.exp(mopt_l0_ps0)).reshape((sim.n_sounding, sim.n_layer)))"
   ]
  },
  {
   "cell_type": "code",
   "execution_count": null,
   "metadata": {},
   "outputs": [],
   "source": [
    "sigmas = [\n",
    "    sigma, \n",
    "    sigma_est_l0,\n",
    "    sigma_est_l0_qx2,\n",
    "    sigma_est_l0_ps0\n",
    "]\n",
    "fig, axs = plt.subplots(4,1, figsize=(5, 10))\n",
    "for ii in range(4):\n",
    "    cb = plt.colorbar(\n",
    "        mesh.plotImage(\n",
    "            sigmas[ii], grid=True, clim=(1./50, 1e-1), ax=axs[ii], \n",
    "            pcolorOpts={\"norm\":LogNorm(), 'cmap': 'jet_r'},\n",
    "            gridOpts={'alpha':0.2, 'color':'grey'}\n",
    "        )[0],\n",
    "        fraction=0.02, pad=0.04, ax=axs[ii]\n",
    "    )\n",
    "    axs[ii].set_ylim(mesh.vectorNy.max(), mesh.vectorNy.min())\n",
    "    axs[ii].set_ylabel(\"z\")\n",
    "    axs[ii].set_ylim(mesh.vectorNy.max(), mesh.vectorNy.min())\n",
    "    axs[ii].set_aspect(10)\n",
    "plt.tight_layout()"
   ]
  },
  {
   "cell_type": "code",
   "execution_count": null,
   "metadata": {},
   "outputs": [],
   "source": [
    "sigmas = [\n",
    "    sigma, \n",
    "    sigma_est_l2,\n",
    "    sigma_est_l2_qx2,\n",
    "    sigma_est_l2_ps0\n",
    "]\n",
    "fig, axs = plt.subplots(4,1, figsize=(5, 10))\n",
    "for ii in range(3):\n",
    "    cb = plt.colorbar(\n",
    "        mesh.plotImage(\n",
    "            sigmas[ii], grid=True, clim=(1./50, 1e-1), ax=axs[ii], \n",
    "            pcolorOpts={\"norm\":LogNorm(), 'cmap': 'jet_r'},\n",
    "            gridOpts={'alpha':0.2, 'color':'grey'}\n",
    "        )[0],\n",
    "        fraction=0.02, pad=0.04, ax=axs[ii]\n",
    "    )\n",
    "    axs[ii].set_ylim(mesh.vectorNy.max(), mesh.vectorNy.min())\n",
    "    axs[ii].set_ylabel(\"z\")\n",
    "    axs[ii].set_ylim(mesh.vectorNy.max(), mesh.vectorNy.min())\n",
    "    axs[ii].set_aspect(10)\n",
    "plt.tight_layout()"
   ]
  },
  {
   "cell_type": "code",
   "execution_count": null,
   "metadata": {},
   "outputs": [],
   "source": []
  }
 ],
 "metadata": {
  "kernelspec": {
   "display_name": "Python 3",
   "language": "python",
   "name": "python3"
  },
  "language_info": {
   "codemirror_mode": {
    "name": "ipython",
    "version": 3
   },
   "file_extension": ".py",
   "mimetype": "text/x-python",
   "name": "python",
   "nbconvert_exporter": "python",
   "pygments_lexer": "ipython3",
   "version": "3.7.4"
  }
 },
 "nbformat": 4,
 "nbformat_minor": 2
}
