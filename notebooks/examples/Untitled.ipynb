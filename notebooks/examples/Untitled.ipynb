{
 "cells": [
  {
   "cell_type": "code",
   "execution_count": 1,
   "id": "blessed-ancient",
   "metadata": {},
   "outputs": [
    {
     "data": {
      "application/vnd.jupyter.widget-view+json": {
       "model_id": "a7d798917291469780adbd6a18116ed0",
       "version_major": 2,
       "version_minor": 0
      },
      "text/plain": [
       "VBox(children=(Button(description='Add Row', style=ButtonStyle()), Sheet(columns=5, layout=Layout(height='auto…"
      ]
     },
     "metadata": {},
     "output_type": "display_data"
    }
   ],
   "source": [
    "import ipysheet\n",
    "import ipywidgets as widgets\n",
    "\n",
    "sheet = ipysheet.sheet()\n",
    "\n",
    "button = widgets.Button(description='Add Row')\n",
    "out = widgets.Output()\n",
    "def add_row(_):\n",
    "    with out:\n",
    "        sheet.rows += 1\n",
    "\n",
    "button.on_click(add_row)\n",
    "\n",
    "widgets.VBox([button,sheet])"
   ]
  },
  {
   "cell_type": "code",
   "execution_count": null,
   "id": "heavy-queensland",
   "metadata": {},
   "outputs": [],
   "source": []
  },
  {
   "cell_type": "code",
   "execution_count": null,
   "id": "moved-bennett",
   "metadata": {},
   "outputs": [],
   "source": []
  }
 ],
 "metadata": {
  "kernelspec": {
   "display_name": "Python 3",
   "language": "python",
   "name": "python3"
  },
  "language_info": {
   "codemirror_mode": {
    "name": "ipython",
    "version": 3
   },
   "file_extension": ".py",
   "mimetype": "text/x-python",
   "name": "python",
   "nbconvert_exporter": "python",
   "pygments_lexer": "ipython3",
   "version": "3.6.12"
  }
 },
 "nbformat": 4,
 "nbformat_minor": 5
}
