{
 "cells": [
  {
   "cell_type": "code",
   "execution_count": 32,
   "id": "fifty-psychiatry",
   "metadata": {},
   "outputs": [
    {
     "name": "stdout",
     "output_type": "stream",
     "text": [
      "The autoreload extension is already loaded. To reload it, use:\n",
      "  %reload_ext autoreload\n"
     ]
    }
   ],
   "source": [
    "#top\n",
    "%matplotlib inline\n",
    "import warnings\n",
    "from ResponseInversion import interactive_res_model\n",
    "from IPython.display import display\n",
    "import matplotlib.pyplot as plt\n",
    "\n",
    "warnings.simplefilter(action='ignore', category=FutureWarning)\n",
    "\n",
    "SMALL_SIZE = 12\n",
    "MEDIUM_SIZE = 14\n",
    "BIGGER_SIZE = 18\n",
    "\n",
    "plt.rc('font', size=SMALL_SIZE)          # controls default text sizes\n",
    "plt.rc('axes', titlesize=SMALL_SIZE)     # fontsize of the axes title\n",
    "plt.rc('axes', labelsize=MEDIUM_SIZE)    # fontsize of the x and y labels\n",
    "plt.rc('xtick', labelsize=SMALL_SIZE)    # fontsize of the tick labels\n",
    "plt.rc('ytick', labelsize=SMALL_SIZE)    # fontsize of the tick labels\n",
    "plt.rc('legend', fontsize=MEDIUM_SIZE)    # legend fontsize\n",
    "plt.rc('figure', titlesize=BIGGER_SIZE)  # fontsize of the figure title\n"
   ]
  },
  {
   "cell_type": "markdown",
   "id": "starting-heavy",
   "metadata": {},
   "source": [
    "<img src=\"../../docs/images/heli_wologo_border_blur-01-01.png\" alt=\"AEM tutorial\" align=\"right\" width=\"150\">\n",
    "\n",
    "# AEM data inversion widget \n",
    "\n",
    "In the following app, we explore the use of a geophysical tool, called the airborne electromagnetic (AEM) method, for mapping the subsurface to support sustainable groundwater management.\n",
    "\n",
    "<br><br><br>\n",
    "<a href=\"https://water.ca.gov/Programs/Groundwater-Management/SGMA-Groundwater-Management\"><img src=\"https://deltacouncil.ca.gov/images/adaptive-management/dwr-logo.png\" alt=\"DWR SGMA\" align=\"right\" width=\"100\"></a><br>\n",
    "Learn more about the Sustainable Groundwater Management (SGMA) program of the California Department of Water Resources (DWR) at \n",
    "https://water.ca.gov/Programs/Groundwater-Management/SGMA-Groundwater-Management\n",
    "\n",
    "<br><br><br><br>"
   ]
  },
  {
   "cell_type": "markdown",
   "id": "insured-economy",
   "metadata": {},
   "source": [
    "## The problem: sustainably managing California's groundwater\n",
    "Water resources, understanding subsurface, SGMA\n",
    "\n",
    "## Geophysics: shining a flashlight into the subsurface\n",
    "\n",
    "\n",
    "## So, why resistivity?\n",
    "<img src=\"https://www.eoas.ubc.ca/ubcgif/iag/foundations/properties/resistivity_files/res-range-clr.jpg\" style=\"width: 60%; height: 60%\"> </img><br>\n",
    "Image source: https://www.eoas.ubc.ca/\n",
    "\n",
    "## How does the AEM method work?\n",
    "<img src=\"https://www.hgiworld.com/wp-content/uploads/2020/10/AEM-Graphic.jpg\" style=\"width: 60%; height: 60%\"> </img><br>\n",
    "Image source: https://www.hgiworld.com/\n",
    "\n",
    "<!-- ## Video: what we can get out of AEM data\n",
    "<video controls autoplay>\n",
    "  <source src=\"https://mapwater.stanford.edu/sites/g/files/sbiybj12111/f/buttespinoverviewv2.mp4\" type=\"video/mp4\" width=\"320\" height=\"240\">\n",
    "  Your browser does not support the embedded video.\n",
    "</video><br>\n",
    "Video source: https://mapwater.stanford.edu/\n",
    "<br><br><br> -->"
   ]
  },
  {
   "cell_type": "markdown",
   "id": "liquid-delay",
   "metadata": {},
   "source": [
    "<br><br>\n",
    "## Widget "
   ]
  },
  {
   "cell_type": "markdown",
   "id": "mysterious-generator",
   "metadata": {},
   "source": [
    "\n",
    "### Step 1: Assigning the true (unseen) resistivity of the subsurface \n",
    "\n",
    "In reality, the subsurface resistivity varies in all directions. Here, for the sake of simplicity, we will assume that all of the variation in resistivity happens in the vertical direction. We can represent these vertical changes as a line plot, shown below, where depth lies on the y-axis and lower depths are farther down the graph, and resistivity lies along the x-axis. Keep in mind, in a real AEM survey, we don't know what this is. In fact, estimating the true resistivity structure is the goal of an AEM survey; here we set the resistivity of the subsurface to better understand the capabilities of the AEM method.\n",
    "\n",
    "\n",
    "<br><br>\n",
    "Use below to create a layered model representing subsurface resistivity. Change the resistivity of each layer either by using the slider or changing the value in the second column. Change the thickness of each layer by typing in a new value in the third column."
   ]
  },
  {
   "cell_type": "code",
   "execution_count": 33,
   "id": "preceding-basis",
   "metadata": {},
   "outputs": [
    {
     "data": {
      "application/vnd.jupyter.widget-view+json": {
       "model_id": "6574404b811a4d9fb8a73eda81fc6d4a",
       "version_major": 2,
       "version_minor": 0
      },
      "text/plain": [
       "VBox(children=(Sheet(cells=(Cell(column_end=2, column_start=2, numeric_format='0', row_end=0, row_start=0, typ…"
      ]
     },
     "metadata": {},
     "output_type": "display_data"
    }
   ],
   "source": [
    "import ResponseInversion2\n",
    "rho_sliders,dep_cells = ResponseInversion2.create_table()"
   ]
  },
  {
   "cell_type": "markdown",
   "id": "conceptual-makeup",
   "metadata": {},
   "source": [
    "<br><br><br>\n",
    "### Step 2: Simulate the acquisition of AEM data  \n",
    "Using the resistivity structure defined above and the setup for a particular AEM system (the setup will vary between systems), we can predict what the AEM data would look like. Click the button below!"
   ]
  },
  {
   "cell_type": "code",
   "execution_count": 21,
   "id": "played-document",
   "metadata": {},
   "outputs": [
    {
     "data": {
      "application/vnd.jupyter.widget-view+json": {
       "model_id": "9bcbbf35e85945999487bec626eed08b",
       "version_major": 2,
       "version_minor": 0
      },
      "text/plain": [
       "Button(description='Acquire AEM data!', style=ButtonStyle())"
      ]
     },
     "metadata": {},
     "output_type": "display_data"
    },
    {
     "data": {
      "application/vnd.jupyter.widget-view+json": {
       "model_id": "3e8cd0f4c0324c5daf000bf813b75d03",
       "version_major": 2,
       "version_minor": 0
      },
      "text/plain": [
       "Output()"
      ]
     },
     "metadata": {},
     "output_type": "display_data"
    }
   ],
   "source": [
    "m_true,d_true,prob,TDsurvey= ResponseInversion2.create_prob(rho_sliders,dep_cells)\n",
    "\n",
    "from ResponseInversion import interactive_fwd\n",
    "from IPython.display import display\n",
    "button,output= ResponseInversion2.interactive_fwd(rho_sliders,dep_cells)\n"
   ]
  },
  {
   "cell_type": "markdown",
   "id": "turned-fault",
   "metadata": {},
   "source": [
    "<br><br><br>\n",
    "### Step 3: Estimate the true resistivity structure using only the AEM data\n",
    "The final step in this exercise is to use the AEM data themselves to estimate the most likely resistivity structure. This process is called \"inversion\". In our case, we generated the \"true\" resistivity in the first place, so we can compare our estimate to the true resistivity, which would normally be unknown in a real AEM survey.\n",
    "\n",
    "Here, we will assume that we have a good idea of the resistivity at depth. "
   ]
  },
  {
   "cell_type": "code",
   "execution_count": 22,
   "id": "challenging-washer",
   "metadata": {},
   "outputs": [
    {
     "data": {
      "application/vnd.jupyter.widget-view+json": {
       "model_id": "e5e71a8590a34fe88bf3ba292d7ec1dd",
       "version_major": 2,
       "version_minor": 0
      },
      "text/plain": [
       "Button(description='Run inversion!', style=ButtonStyle())"
      ]
     },
     "metadata": {},
     "output_type": "display_data"
    },
    {
     "data": {
      "application/vnd.jupyter.widget-view+json": {
       "model_id": "7251ac96aefa41cf84ed97cc218801e7",
       "version_major": 2,
       "version_minor": 0
      },
      "text/plain": [
       "Output()"
      ]
     },
     "metadata": {},
     "output_type": "display_data"
    }
   ],
   "source": [
    "button,output=ResponseInversion2.interactive_inversion(rho_sliders,dep_cells)"
   ]
  }
 ],
 "metadata": {
  "kernelspec": {
   "display_name": "Python 3",
   "language": "python",
   "name": "python3"
  },
  "language_info": {
   "codemirror_mode": {
    "name": "ipython",
    "version": 3
   },
   "file_extension": ".py",
   "mimetype": "text/x-python",
   "name": "python",
   "nbconvert_exporter": "python",
   "pygments_lexer": "ipython3",
   "version": "3.6.12"
  }
 },
 "nbformat": 4,
 "nbformat_minor": 5
}
