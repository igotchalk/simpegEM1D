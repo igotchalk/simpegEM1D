{
 "cells": [
  {
   "cell_type": "code",
   "execution_count": 2,
   "metadata": {},
   "outputs": [],
   "source": [
    "#top\n",
    "%load_ext autoreload\n",
    "%autoreload 2\n",
    "%matplotlib inline\n",
    "\n",
    "from ResponseInversion import interactive_res_model\n",
    "from IPython.display import display\n",
    "import matplotlib.pyplot as plt\n",
    "\n",
    "SMALL_SIZE = 12\n",
    "MEDIUM_SIZE = 14\n",
    "BIGGER_SIZE = 18\n",
    "\n",
    "plt.rc('font', size=SMALL_SIZE)          # controls default text sizes\n",
    "plt.rc('axes', titlesize=SMALL_SIZE)     # fontsize of the axes title\n",
    "plt.rc('axes', labelsize=MEDIUM_SIZE)    # fontsize of the x and y labels\n",
    "plt.rc('xtick', labelsize=SMALL_SIZE)    # fontsize of the tick labels\n",
    "plt.rc('ytick', labelsize=SMALL_SIZE)    # fontsize of the tick labels\n",
    "plt.rc('legend', fontsize=MEDIUM_SIZE)    # legend fontsize\n",
    "plt.rc('figure', titlesize=BIGGER_SIZE)  # fontsize of the figure title\n"
   ]
  },
  {
   "cell_type": "markdown",
   "metadata": {},
   "source": [
    "<img src=\"../../docs/images/heli_wlogo_border_blur-01.png\" alt=\"AEM tutorial\" align=\"right\" width=\"150\">\n",
    "\n",
    "# AEM data inversion widget \n",
    "\n",
    "In the following app, we explore the use of a geophysical tool, called the airborne electromagnetic (AEM) method, for mapping the subsurface to support sustainable groundwater management.\n",
    "\n",
    "\n",
    "## Contents\n",
    "\n",
    "1. Introduction\n",
    "    * The problem: sustainable groundwater management\n",
    "    * Geophysics: shining a flashlight into the subsurface\n",
    "    * So, why resistivity?\n",
    "    * How does the AEM method work?\n",
    "2. Widget\n",
    "\n",
    "\n",
    "\n",
    "<a href=\"https://water.ca.gov/Programs/Groundwater-Management/SGMA-Groundwater-Management\"><img src=\"https://deltacouncil.ca.gov/images/adaptive-management/dwr-logo.png\" alt=\"DWR SGMA\" align=\"right\" width=\"100\"></a><br><br>\n",
    "Learn more about the Sustainable Groundwater Management (SGMA) program of the California Department of Water Resources (DWR) at \n",
    "https://water.ca.gov/Programs/Groundwater-Management/SGMA-Groundwater-Management\n",
    "\n",
    "<br><br><br><br>"
   ]
  },
  {
   "cell_type": "markdown",
   "metadata": {},
   "source": [
    "## The problem: sustainably managing California's groundwater\n",
    "Water resources, understanding subsurface, SGMA\n",
    "\n",
    "## Geophysics: shining a flashlight into the subsurface\n",
    "Airborne Electromagnetic (AEM) surveys will be conducted in California’s groundwater basins, including areas with\n",
    "disadvantaged communities (DACs). AEM will be led by DWR with input from local subject matter experts. The\n",
    "project will generate a coarse-grid subsurface map that will provide informative aquifer data to GSAs and could\n",
    "be the basis for denser flight paths in the future by local stakeholders. The collected data can help map an aquifer\n",
    "and identify where possible recharge could occur. \n",
    "\n",
    "\n",
    "## So, why resistivity?\n",
    "<img src=\"https://www.eoas.ubc.ca/ubcgif/iag/foundations/properties/resistivity_files/res-range-clr.jpg\" style=\"width: 80%; height: 60%\"> </img><br>\n",
    "Image source: https://www.eoas.ubc.ca/\n",
    "\n",
    "## How does the AEM method work?\n",
    "<img src=\"https://www.hgiworld.com/wp-content/uploads/2020/10/AEM-Graphic.jpg\" style=\"width: 80%; height: 60%\"> </img><br>\n",
    "Image source: https://www.hgiworld.com/\n",
    "\n",
    "## Video: what we can get out of AEM data\n",
    "<video controls autoplay>\n",
    "  <source src=\"https://mapwater.stanford.edu/sites/g/files/sbiybj12111/f/buttespinoverviewv2.mp4\" type=\"video/mp4\" width=\"320\" height=\"240\">\n",
    "  Your browser does not support the embedded video.\n",
    "</video><br>\n",
    "Video source: https://mapwater.stanford.edu/\n",
    "<br><br><br>"
   ]
  },
  {
   "cell_type": "markdown",
   "metadata": {},
   "source": [
    "## The AEM data inversion widget "
   ]
  },
  {
   "cell_type": "markdown",
   "metadata": {},
   "source": [
    "<br><br><br>\n",
    "### Step 1: The true (unseen) resistivity of the subsurface "
   ]
  },
  {
   "cell_type": "code",
   "execution_count": 1,
   "metadata": {},
   "outputs": [
    {
     "data": {
      "application/vnd.jupyter.widget-view+json": {
       "model_id": "d7d735f3c2934709a917888af63e12d2",
       "version_major": 2,
       "version_minor": 0
      },
      "text/plain": [
       "interactive(children=(FloatLogSlider(value=100.0, description='$\\\\rho_{1}$', max=3.0, min=-1.0), FloatLogSlide…"
      ]
     },
     "metadata": {},
     "output_type": "display_data"
    }
   ],
   "source": [
    "from ResponseInversion import interactive_res_model\n",
    "app = interactive_res_model()\n",
    "display(app)\n"
   ]
  },
  {
   "cell_type": "markdown",
   "metadata": {},
   "source": [
    "<br><br><br>\n",
    "### Step 2: Acquirining AEM data  "
   ]
  },
  {
   "cell_type": "code",
   "execution_count": 85,
   "metadata": {},
   "outputs": [
    {
     "data": {
      "application/vnd.jupyter.widget-view+json": {
       "model_id": "151d8ecf7bd345e7aa5d6496a6a0c58a",
       "version_major": 2,
       "version_minor": 0
      },
      "text/plain": [
       "Button(description='Acquire AEM data!', style=ButtonStyle())"
      ]
     },
     "metadata": {},
     "output_type": "display_data"
    },
    {
     "data": {
      "application/vnd.jupyter.widget-view+json": {
       "model_id": "ecb90fd174ab4950941a3a2f677ef99a",
       "version_major": 2,
       "version_minor": 0
      },
      "text/plain": [
       "Output()"
      ]
     },
     "metadata": {},
     "output_type": "display_data"
    }
   ],
   "source": [
    "%matplotlib inline\n",
    "from ResponseInversion import interactive_fwd\n",
    "from IPython.display import display\n",
    "button,output= interactive_fwd(app)\n",
    "# display(output)"
   ]
  },
  {
   "cell_type": "markdown",
   "metadata": {},
   "source": [
    "<br><br><br>\n",
    "### Step 3: Estimating the true resistivity, using our AEM data"
   ]
  },
  {
   "cell_type": "code",
   "execution_count": 86,
   "metadata": {},
   "outputs": [
    {
     "data": {
      "application/vnd.jupyter.widget-view+json": {
       "model_id": "b13f5fbf1cf74baeb35ae92cf2f0d296",
       "version_major": 2,
       "version_minor": 0
      },
      "text/plain": [
       "Button(description='Run inversion!', style=ButtonStyle())"
      ]
     },
     "metadata": {},
     "output_type": "display_data"
    },
    {
     "data": {
      "application/vnd.jupyter.widget-view+json": {
       "model_id": "6609dfdbc91e4c03914347616dc60c4e",
       "version_major": 2,
       "version_minor": 0
      },
      "text/plain": [
       "Output()"
      ]
     },
     "metadata": {},
     "output_type": "display_data"
    }
   ],
   "source": [
    "%matplotlib inline\n",
    "from ResponseInversion import interactive_inversion\n",
    "from IPython.display import display\n",
    "button,output=interactive_inversion(app)\n",
    "# display(output)"
   ]
  },
  {
   "cell_type": "code",
   "execution_count": null,
   "metadata": {},
   "outputs": [],
   "source": []
  }
 ],
 "metadata": {
  "kernelspec": {
   "display_name": "Python 3",
   "language": "python",
   "name": "python3"
  },
  "language_info": {
   "codemirror_mode": {
    "name": "ipython",
    "version": 3
   },
   "file_extension": ".py",
   "mimetype": "text/x-python",
   "name": "python",
   "nbconvert_exporter": "python",
   "pygments_lexer": "ipython3",
   "version": "3.6.12"
  }
 },
 "nbformat": 4,
 "nbformat_minor": 4
}
